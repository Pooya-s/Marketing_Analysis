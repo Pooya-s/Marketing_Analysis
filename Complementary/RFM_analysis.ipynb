{
 "cells": [
  {
   "cell_type": "code",
   "execution_count": 19,
   "id": "6091cabb",
   "metadata": {},
   "outputs": [],
   "source": [
    "import pandas as pd\n",
    "import numpy as np\n",
    "import matplotlib.pyplot as plt\n",
    "import seaborn as sns"
   ]
  },
  {
   "cell_type": "code",
   "execution_count": null,
   "id": "6044030b",
   "metadata": {},
   "outputs": [
    {
     "name": "stderr",
     "output_type": "stream",
     "text": [
      "Downloading...\n",
      "From (original): https://drive.google.com/uc?id=1ZqVdr9td8KAAv8hJbhNAhwfCQ4sxKslW\n",
      "From (redirected): https://drive.google.com/uc?id=1ZqVdr9td8KAAv8hJbhNAhwfCQ4sxKslW&confirm=t&uuid=186a006f-f323-4d8e-88f4-20e677cb7940\n",
      "To: c:\\Users\\pooya\\Downloads\\Telegram Desktop\\browse_purchase_2022_FY.csv\n",
      "100%|██████████| 192M/192M [00:28<00:00, 6.73MB/s] \n",
      "C:\\Users\\pooya\\AppData\\Local\\Temp\\ipykernel_18068\\2848027582.py:10: DtypeWarning: Columns (7) have mixed types. Specify dtype option on import or set low_memory=False.\n",
      "  df = pd.read_csv(output)\n"
     ]
    },
    {
     "name": "stdout",
     "output_type": "stream",
     "text": [
      "         date                customerId        country       city  \\\n",
      "0  2022-01-20  3UTw1Ru+ahnKAwPNAQZkxA==         France     Meudon   \n",
      "1  2022-01-20  M1uzsFbXHQ+s5BIIjYcgHg==        Ukraine    Poltava   \n",
      "2  2022-01-20  ZBiFJwut1IdmlSqc27edGA==        Ukraine   Mykolaiv   \n",
      "3  2022-01-20  WqkjFVAdBHmwnr0j1hoFeA==  United States    Ashburn   \n",
      "4  2022-01-20  thZWAdudx377qV8dGAju7Q==        Algeria  (not set)   \n",
      "\n",
      "   visitStartTime browser deviceCategory visit_from_app utm_medium  \\\n",
      "0      1642692636  Chrome        desktop          False     (none)   \n",
      "1      1642633226  Chrome        desktop          False     (none)   \n",
      "2      1642716112  Chrome        desktop          False     (none)   \n",
      "3      1642639047  Safari        desktop          False     (none)   \n",
      "4      1642703113  Safari         mobile          False     (none)   \n",
      "\n",
      "  channelGrouping  ...  products_refunded  visit_with_add_to_cart  \\\n",
      "0          Direct  ...                  0                       1   \n",
      "1          Direct  ...                  0                       1   \n",
      "2          Direct  ...                  0                       1   \n",
      "3          Direct  ...                  0                       1   \n",
      "4          Direct  ...                  0                       0   \n",
      "\n",
      "   visit_with_remove_from_cart  visit_with_purchase  visit_with_checkout  \\\n",
      "0                            0                    1                    1   \n",
      "1                            0                    1                    1   \n",
      "2                            0                    1                    1   \n",
      "3                            0                    1                    1   \n",
      "4                            0                    1                    1   \n",
      "\n",
      "   visit_with_productDetailView  visit_with_productListView  \\\n",
      "0                             1                           1   \n",
      "1                             1                           0   \n",
      "2                             1                           1   \n",
      "3                             1                           1   \n",
      "4                             0                           0   \n",
      "\n",
      "                               product_ids_purchased  \\\n",
      "0  -134208529896970761;922359410286393803;-448617...   \n",
      "1  1676064583555622380;6629402718509011551;508077...   \n",
      "2  -7184900379311061065;6578257325658181239;17479...   \n",
      "3  -5611779241149737727;-8219021455566855175;-387...   \n",
      "4  3165719737959416800;6828766734890080525;892061...   \n",
      "\n",
      "   product_quantity_purchased  tot_revenue  \n",
      "0                        28.0       98.190  \n",
      "1                        74.0      319.425  \n",
      "2                        86.0      298.710  \n",
      "3                        32.0      101.981  \n",
      "4                        22.0       74.535  \n",
      "\n",
      "[5 rows x 31 columns]\n"
     ]
    }
   ],
   "source": [
    "import gdown\n",
    "\n",
    "file_id = \"file_id\"\n",
    "output = \"File_name.csv\"\n",
    "\n",
    "# Download the file\n",
    "gdown.download(f\"https://drive.google.com/uc?id={file_id}\", output, quiet=False)\n",
    "\n",
    "# Load into Pandas\n",
    "df = pd.read_csv(output)\n",
    "print(df.head())"
   ]
  },
  {
   "cell_type": "code",
   "execution_count": null,
   "id": "2de1b216",
   "metadata": {},
   "outputs": [],
   "source": []
  },
  {
   "cell_type": "code",
   "execution_count": 21,
   "id": "4be26685",
   "metadata": {},
   "outputs": [],
   "source": [
    "df=pd.read_csv(\"browse_purchase_2022_FY.csv\", low_memory=False)"
   ]
  },
  {
   "cell_type": "code",
   "execution_count": 22,
   "id": "7bedda04",
   "metadata": {},
   "outputs": [
    {
     "data": {
      "text/html": [
       "<div>\n",
       "<style scoped>\n",
       "    .dataframe tbody tr th:only-of-type {\n",
       "        vertical-align: middle;\n",
       "    }\n",
       "\n",
       "    .dataframe tbody tr th {\n",
       "        vertical-align: top;\n",
       "    }\n",
       "\n",
       "    .dataframe thead th {\n",
       "        text-align: right;\n",
       "    }\n",
       "</style>\n",
       "<table border=\"1\" class=\"dataframe\">\n",
       "  <thead>\n",
       "    <tr style=\"text-align: right;\">\n",
       "      <th></th>\n",
       "      <th>0</th>\n",
       "      <th>1</th>\n",
       "    </tr>\n",
       "  </thead>\n",
       "  <tbody>\n",
       "    <tr>\n",
       "      <th>date</th>\n",
       "      <td>2022-01-20</td>\n",
       "      <td>2022-01-20</td>\n",
       "    </tr>\n",
       "    <tr>\n",
       "      <th>customerId</th>\n",
       "      <td>3UTw1Ru+ahnKAwPNAQZkxA==</td>\n",
       "      <td>M1uzsFbXHQ+s5BIIjYcgHg==</td>\n",
       "    </tr>\n",
       "    <tr>\n",
       "      <th>country</th>\n",
       "      <td>France</td>\n",
       "      <td>Ukraine</td>\n",
       "    </tr>\n",
       "    <tr>\n",
       "      <th>city</th>\n",
       "      <td>Meudon</td>\n",
       "      <td>Poltava</td>\n",
       "    </tr>\n",
       "    <tr>\n",
       "      <th>visitStartTime</th>\n",
       "      <td>1642692636</td>\n",
       "      <td>1642633226</td>\n",
       "    </tr>\n",
       "    <tr>\n",
       "      <th>browser</th>\n",
       "      <td>Chrome</td>\n",
       "      <td>Chrome</td>\n",
       "    </tr>\n",
       "    <tr>\n",
       "      <th>deviceCategory</th>\n",
       "      <td>desktop</td>\n",
       "      <td>desktop</td>\n",
       "    </tr>\n",
       "    <tr>\n",
       "      <th>visit_from_app</th>\n",
       "      <td>False</td>\n",
       "      <td>False</td>\n",
       "    </tr>\n",
       "    <tr>\n",
       "      <th>utm_medium</th>\n",
       "      <td>(none)</td>\n",
       "      <td>(none)</td>\n",
       "    </tr>\n",
       "    <tr>\n",
       "      <th>channelGrouping</th>\n",
       "      <td>Direct</td>\n",
       "      <td>Direct</td>\n",
       "    </tr>\n",
       "    <tr>\n",
       "      <th>pageviews</th>\n",
       "      <td>37.0</td>\n",
       "      <td>19.0</td>\n",
       "    </tr>\n",
       "    <tr>\n",
       "      <th>timeOnSite</th>\n",
       "      <td>1651.0</td>\n",
       "      <td>1134.0</td>\n",
       "    </tr>\n",
       "    <tr>\n",
       "      <th>bounces</th>\n",
       "      <td>NaN</td>\n",
       "      <td>NaN</td>\n",
       "    </tr>\n",
       "    <tr>\n",
       "      <th>interaction_hits</th>\n",
       "      <td>85</td>\n",
       "      <td>47</td>\n",
       "    </tr>\n",
       "    <tr>\n",
       "      <th>products_impressions</th>\n",
       "      <td>173</td>\n",
       "      <td>0</td>\n",
       "    </tr>\n",
       "    <tr>\n",
       "      <th>store_locator</th>\n",
       "      <td>0</td>\n",
       "      <td>0</td>\n",
       "    </tr>\n",
       "    <tr>\n",
       "      <th>add_to_wishlist</th>\n",
       "      <td>0</td>\n",
       "      <td>0</td>\n",
       "    </tr>\n",
       "    <tr>\n",
       "      <th>contact_customercare</th>\n",
       "      <td>0</td>\n",
       "      <td>0</td>\n",
       "    </tr>\n",
       "    <tr>\n",
       "      <th>set_product_alert</th>\n",
       "      <td>0</td>\n",
       "      <td>0</td>\n",
       "    </tr>\n",
       "    <tr>\n",
       "      <th>products_added_to_cart</th>\n",
       "      <td>11</td>\n",
       "      <td>14</td>\n",
       "    </tr>\n",
       "    <tr>\n",
       "      <th>products_removed_from_cart</th>\n",
       "      <td>0</td>\n",
       "      <td>0</td>\n",
       "    </tr>\n",
       "    <tr>\n",
       "      <th>products_refunded</th>\n",
       "      <td>0</td>\n",
       "      <td>0</td>\n",
       "    </tr>\n",
       "    <tr>\n",
       "      <th>visit_with_add_to_cart</th>\n",
       "      <td>1</td>\n",
       "      <td>1</td>\n",
       "    </tr>\n",
       "    <tr>\n",
       "      <th>visit_with_remove_from_cart</th>\n",
       "      <td>0</td>\n",
       "      <td>0</td>\n",
       "    </tr>\n",
       "    <tr>\n",
       "      <th>visit_with_purchase</th>\n",
       "      <td>1</td>\n",
       "      <td>1</td>\n",
       "    </tr>\n",
       "    <tr>\n",
       "      <th>visit_with_checkout</th>\n",
       "      <td>1</td>\n",
       "      <td>1</td>\n",
       "    </tr>\n",
       "    <tr>\n",
       "      <th>visit_with_productDetailView</th>\n",
       "      <td>1</td>\n",
       "      <td>1</td>\n",
       "    </tr>\n",
       "    <tr>\n",
       "      <th>visit_with_productListView</th>\n",
       "      <td>1</td>\n",
       "      <td>0</td>\n",
       "    </tr>\n",
       "    <tr>\n",
       "      <th>product_ids_purchased</th>\n",
       "      <td>-134208529896970761;922359410286393803;-448617...</td>\n",
       "      <td>1676064583555622380;6629402718509011551;508077...</td>\n",
       "    </tr>\n",
       "    <tr>\n",
       "      <th>product_quantity_purchased</th>\n",
       "      <td>28.0</td>\n",
       "      <td>74.0</td>\n",
       "    </tr>\n",
       "    <tr>\n",
       "      <th>tot_revenue</th>\n",
       "      <td>98.19</td>\n",
       "      <td>319.425</td>\n",
       "    </tr>\n",
       "  </tbody>\n",
       "</table>\n",
       "</div>"
      ],
      "text/plain": [
       "                                                                              0  \\\n",
       "date                                                                 2022-01-20   \n",
       "customerId                                             3UTw1Ru+ahnKAwPNAQZkxA==   \n",
       "country                                                                  France   \n",
       "city                                                                     Meudon   \n",
       "visitStartTime                                                       1642692636   \n",
       "browser                                                                  Chrome   \n",
       "deviceCategory                                                          desktop   \n",
       "visit_from_app                                                            False   \n",
       "utm_medium                                                               (none)   \n",
       "channelGrouping                                                          Direct   \n",
       "pageviews                                                                  37.0   \n",
       "timeOnSite                                                               1651.0   \n",
       "bounces                                                                     NaN   \n",
       "interaction_hits                                                             85   \n",
       "products_impressions                                                        173   \n",
       "store_locator                                                                 0   \n",
       "add_to_wishlist                                                               0   \n",
       "contact_customercare                                                          0   \n",
       "set_product_alert                                                             0   \n",
       "products_added_to_cart                                                       11   \n",
       "products_removed_from_cart                                                    0   \n",
       "products_refunded                                                             0   \n",
       "visit_with_add_to_cart                                                        1   \n",
       "visit_with_remove_from_cart                                                   0   \n",
       "visit_with_purchase                                                           1   \n",
       "visit_with_checkout                                                           1   \n",
       "visit_with_productDetailView                                                  1   \n",
       "visit_with_productListView                                                    1   \n",
       "product_ids_purchased         -134208529896970761;922359410286393803;-448617...   \n",
       "product_quantity_purchased                                                 28.0   \n",
       "tot_revenue                                                               98.19   \n",
       "\n",
       "                                                                              1  \n",
       "date                                                                 2022-01-20  \n",
       "customerId                                             M1uzsFbXHQ+s5BIIjYcgHg==  \n",
       "country                                                                 Ukraine  \n",
       "city                                                                    Poltava  \n",
       "visitStartTime                                                       1642633226  \n",
       "browser                                                                  Chrome  \n",
       "deviceCategory                                                          desktop  \n",
       "visit_from_app                                                            False  \n",
       "utm_medium                                                               (none)  \n",
       "channelGrouping                                                          Direct  \n",
       "pageviews                                                                  19.0  \n",
       "timeOnSite                                                               1134.0  \n",
       "bounces                                                                     NaN  \n",
       "interaction_hits                                                             47  \n",
       "products_impressions                                                          0  \n",
       "store_locator                                                                 0  \n",
       "add_to_wishlist                                                               0  \n",
       "contact_customercare                                                          0  \n",
       "set_product_alert                                                             0  \n",
       "products_added_to_cart                                                       14  \n",
       "products_removed_from_cart                                                    0  \n",
       "products_refunded                                                             0  \n",
       "visit_with_add_to_cart                                                        1  \n",
       "visit_with_remove_from_cart                                                   0  \n",
       "visit_with_purchase                                                           1  \n",
       "visit_with_checkout                                                           1  \n",
       "visit_with_productDetailView                                                  1  \n",
       "visit_with_productListView                                                    0  \n",
       "product_ids_purchased         1676064583555622380;6629402718509011551;508077...  \n",
       "product_quantity_purchased                                                 74.0  \n",
       "tot_revenue                                                             319.425  "
      ]
     },
     "execution_count": 22,
     "metadata": {},
     "output_type": "execute_result"
    }
   ],
   "source": [
    "df.head(2).T"
   ]
  },
  {
   "cell_type": "code",
   "execution_count": 23,
   "id": "0d7fc89c",
   "metadata": {},
   "outputs": [],
   "source": [
    "db=df[[\"customerId\", \"date\", \"product_quantity_purchased\", \"tot_revenue\"]]\n",
    "db=db[db.tot_revenue.notna()]"
   ]
  },
  {
   "cell_type": "code",
   "execution_count": 24,
   "id": "982d3e99",
   "metadata": {},
   "outputs": [
    {
     "data": {
      "text/html": [
       "<div>\n",
       "<style scoped>\n",
       "    .dataframe tbody tr th:only-of-type {\n",
       "        vertical-align: middle;\n",
       "    }\n",
       "\n",
       "    .dataframe tbody tr th {\n",
       "        vertical-align: top;\n",
       "    }\n",
       "\n",
       "    .dataframe thead th {\n",
       "        text-align: right;\n",
       "    }\n",
       "</style>\n",
       "<table border=\"1\" class=\"dataframe\">\n",
       "  <thead>\n",
       "    <tr style=\"text-align: right;\">\n",
       "      <th></th>\n",
       "      <th>customerId</th>\n",
       "      <th>date</th>\n",
       "      <th>product_quantity_purchased</th>\n",
       "      <th>tot_revenue</th>\n",
       "    </tr>\n",
       "  </thead>\n",
       "  <tbody>\n",
       "    <tr>\n",
       "      <th>0</th>\n",
       "      <td>3UTw1Ru+ahnKAwPNAQZkxA==</td>\n",
       "      <td>2022-01-20</td>\n",
       "      <td>28.0</td>\n",
       "      <td>98.190</td>\n",
       "    </tr>\n",
       "    <tr>\n",
       "      <th>1</th>\n",
       "      <td>M1uzsFbXHQ+s5BIIjYcgHg==</td>\n",
       "      <td>2022-01-20</td>\n",
       "      <td>74.0</td>\n",
       "      <td>319.425</td>\n",
       "    </tr>\n",
       "  </tbody>\n",
       "</table>\n",
       "</div>"
      ],
      "text/plain": [
       "                 customerId        date  product_quantity_purchased  \\\n",
       "0  3UTw1Ru+ahnKAwPNAQZkxA==  2022-01-20                        28.0   \n",
       "1  M1uzsFbXHQ+s5BIIjYcgHg==  2022-01-20                        74.0   \n",
       "\n",
       "   tot_revenue  \n",
       "0       98.190  \n",
       "1      319.425  "
      ]
     },
     "execution_count": 24,
     "metadata": {},
     "output_type": "execute_result"
    }
   ],
   "source": [
    "db.head(2)"
   ]
  },
  {
   "cell_type": "code",
   "execution_count": 25,
   "id": "1299535e",
   "metadata": {},
   "outputs": [
    {
     "name": "stdout",
     "output_type": "stream",
     "text": [
      "Maximum date purchase is  2022-03-18\n",
      "Minimum date purchase is  2022-01-01\n"
     ]
    }
   ],
   "source": [
    "print(\"Maximum date purchase is \", db.date.max())\n",
    "print(\"Minimum date purchase is \", db.date.min())"
   ]
  },
  {
   "cell_type": "code",
   "execution_count": 26,
   "id": "b86eb2c5",
   "metadata": {},
   "outputs": [
    {
     "name": "stdout",
     "output_type": "stream",
     "text": [
      "2022-03-18 00:00:00\n"
     ]
    }
   ],
   "source": [
    "import datetime as dt\n",
    "now = pd.Timestamp(db.date.max())\n",
    "print(now)"
   ]
  },
  {
   "cell_type": "markdown",
   "id": "8de86740-a96d-4b50-9112-42c87267c379",
   "metadata": {},
   "source": [
    "### RFM Analysis  \n",
    "RFM (Recency, Frequency, Monetary) analysis is a customer segmentation technique used to evaluate customer value based on their purchasing behavior. **Recency (R)** measures how recently a customer made a purchase, **Frequency (F)** tracks how often they buy, and **Monetary (M)** assesses how much they spend. By scoring customers on these dimensions, businesses can identify key segments such as loyal customers, big spenders, or at-risk customers. This helps in tailoring marketing strategies, improving customer retention, and maximizing revenue by focusing efforts on the most valuable segments."
   ]
  },
  {
   "cell_type": "code",
   "execution_count": 27,
   "id": "82e2857f",
   "metadata": {},
   "outputs": [],
   "source": [
    "recency_df=db.sort_values(by=[\"customerId\",\"date\"]).groupby(\"customerId\")[\"date\"].last().reset_index()\n",
    "recency_df.columns=['customerId','LastPurshaceDate']"
   ]
  },
  {
   "cell_type": "code",
   "execution_count": 28,
   "id": "ddd04eda",
   "metadata": {},
   "outputs": [],
   "source": [
    "recency_df['LastPurshaceDate']=pd.to_datetime(recency_df['LastPurshaceDate'])\n",
    "recency_df['Recency'] = recency_df['LastPurshaceDate'].apply(lambda x: int((now - x).days))"
   ]
  },
  {
   "cell_type": "code",
   "execution_count": 29,
   "id": "f81b1f6b",
   "metadata": {},
   "outputs": [
    {
     "data": {
      "text/html": [
       "<div>\n",
       "<style scoped>\n",
       "    .dataframe tbody tr th:only-of-type {\n",
       "        vertical-align: middle;\n",
       "    }\n",
       "\n",
       "    .dataframe tbody tr th {\n",
       "        vertical-align: top;\n",
       "    }\n",
       "\n",
       "    .dataframe thead th {\n",
       "        text-align: right;\n",
       "    }\n",
       "</style>\n",
       "<table border=\"1\" class=\"dataframe\">\n",
       "  <thead>\n",
       "    <tr style=\"text-align: right;\">\n",
       "      <th></th>\n",
       "      <th>customerId</th>\n",
       "      <th>LastPurshaceDate</th>\n",
       "      <th>Recency</th>\n",
       "    </tr>\n",
       "  </thead>\n",
       "  <tbody>\n",
       "    <tr>\n",
       "      <th>0</th>\n",
       "      <td>++0Dxza60/nPDbfORBYuuA==</td>\n",
       "      <td>2022-02-26</td>\n",
       "      <td>20</td>\n",
       "    </tr>\n",
       "    <tr>\n",
       "      <th>1</th>\n",
       "      <td>++0f45nPCVLLplbn4+Duvw==</td>\n",
       "      <td>2022-02-12</td>\n",
       "      <td>34</td>\n",
       "    </tr>\n",
       "    <tr>\n",
       "      <th>2</th>\n",
       "      <td>++4FV+zpIjWYGOp00jDigw==</td>\n",
       "      <td>2022-03-12</td>\n",
       "      <td>6</td>\n",
       "    </tr>\n",
       "    <tr>\n",
       "      <th>3</th>\n",
       "      <td>++5RExvb0CRlvMSB2J+kLg==</td>\n",
       "      <td>2022-02-27</td>\n",
       "      <td>19</td>\n",
       "    </tr>\n",
       "    <tr>\n",
       "      <th>4</th>\n",
       "      <td>++7/YKNQbfW4zR5VkdIf7A==</td>\n",
       "      <td>2022-03-08</td>\n",
       "      <td>10</td>\n",
       "    </tr>\n",
       "  </tbody>\n",
       "</table>\n",
       "</div>"
      ],
      "text/plain": [
       "                 customerId LastPurshaceDate  Recency\n",
       "0  ++0Dxza60/nPDbfORBYuuA==       2022-02-26       20\n",
       "1  ++0f45nPCVLLplbn4+Duvw==       2022-02-12       34\n",
       "2  ++4FV+zpIjWYGOp00jDigw==       2022-03-12        6\n",
       "3  ++5RExvb0CRlvMSB2J+kLg==       2022-02-27       19\n",
       "4  ++7/YKNQbfW4zR5VkdIf7A==       2022-03-08       10"
      ]
     },
     "execution_count": 29,
     "metadata": {},
     "output_type": "execute_result"
    }
   ],
   "source": [
    "recency_df.head()"
   ]
  },
  {
   "cell_type": "code",
   "execution_count": 30,
   "id": "67c81e89",
   "metadata": {},
   "outputs": [],
   "source": [
    "freq_df=db.groupby(\"customerId\")[\"product_quantity_purchased\"].sum().reset_index()\n",
    "freq_df.columns=['customerId','Frequency']"
   ]
  },
  {
   "cell_type": "code",
   "execution_count": 31,
   "id": "01c35c8f",
   "metadata": {},
   "outputs": [
    {
     "data": {
      "text/html": [
       "<div>\n",
       "<style scoped>\n",
       "    .dataframe tbody tr th:only-of-type {\n",
       "        vertical-align: middle;\n",
       "    }\n",
       "\n",
       "    .dataframe tbody tr th {\n",
       "        vertical-align: top;\n",
       "    }\n",
       "\n",
       "    .dataframe thead th {\n",
       "        text-align: right;\n",
       "    }\n",
       "</style>\n",
       "<table border=\"1\" class=\"dataframe\">\n",
       "  <thead>\n",
       "    <tr style=\"text-align: right;\">\n",
       "      <th></th>\n",
       "      <th>customerId</th>\n",
       "      <th>Frequency</th>\n",
       "    </tr>\n",
       "  </thead>\n",
       "  <tbody>\n",
       "    <tr>\n",
       "      <th>0</th>\n",
       "      <td>++0Dxza60/nPDbfORBYuuA==</td>\n",
       "      <td>16.0</td>\n",
       "    </tr>\n",
       "    <tr>\n",
       "      <th>1</th>\n",
       "      <td>++0f45nPCVLLplbn4+Duvw==</td>\n",
       "      <td>12.0</td>\n",
       "    </tr>\n",
       "    <tr>\n",
       "      <th>2</th>\n",
       "      <td>++4FV+zpIjWYGOp00jDigw==</td>\n",
       "      <td>14.0</td>\n",
       "    </tr>\n",
       "    <tr>\n",
       "      <th>3</th>\n",
       "      <td>++5RExvb0CRlvMSB2J+kLg==</td>\n",
       "      <td>18.0</td>\n",
       "    </tr>\n",
       "    <tr>\n",
       "      <th>4</th>\n",
       "      <td>++7/YKNQbfW4zR5VkdIf7A==</td>\n",
       "      <td>144.0</td>\n",
       "    </tr>\n",
       "  </tbody>\n",
       "</table>\n",
       "</div>"
      ],
      "text/plain": [
       "                 customerId  Frequency\n",
       "0  ++0Dxza60/nPDbfORBYuuA==       16.0\n",
       "1  ++0f45nPCVLLplbn4+Duvw==       12.0\n",
       "2  ++4FV+zpIjWYGOp00jDigw==       14.0\n",
       "3  ++5RExvb0CRlvMSB2J+kLg==       18.0\n",
       "4  ++7/YKNQbfW4zR5VkdIf7A==      144.0"
      ]
     },
     "execution_count": 31,
     "metadata": {},
     "output_type": "execute_result"
    }
   ],
   "source": [
    "freq_df.head()"
   ]
  },
  {
   "cell_type": "code",
   "execution_count": 32,
   "id": "6f781ac3",
   "metadata": {},
   "outputs": [],
   "source": [
    "money=db.groupby(\"customerId\")[\"tot_revenue\"].sum().reset_index()\n",
    "money.columns=[\"customerId\",\"Monetary\"]"
   ]
  },
  {
   "cell_type": "code",
   "execution_count": 33,
   "id": "5e80a1bb",
   "metadata": {},
   "outputs": [],
   "source": [
    "df_rfm=recency_df.merge(freq_df,on='customerId',how='left').merge(money,on='customerId',how='left')"
   ]
  },
  {
   "cell_type": "code",
   "execution_count": 34,
   "id": "108c7487",
   "metadata": {},
   "outputs": [
    {
     "data": {
      "text/html": [
       "<div>\n",
       "<style scoped>\n",
       "    .dataframe tbody tr th:only-of-type {\n",
       "        vertical-align: middle;\n",
       "    }\n",
       "\n",
       "    .dataframe tbody tr th {\n",
       "        vertical-align: top;\n",
       "    }\n",
       "\n",
       "    .dataframe thead th {\n",
       "        text-align: right;\n",
       "    }\n",
       "</style>\n",
       "<table border=\"1\" class=\"dataframe\">\n",
       "  <thead>\n",
       "    <tr style=\"text-align: right;\">\n",
       "      <th></th>\n",
       "      <th>customerId</th>\n",
       "      <th>LastPurshaceDate</th>\n",
       "      <th>Recency</th>\n",
       "      <th>Frequency</th>\n",
       "      <th>Monetary</th>\n",
       "    </tr>\n",
       "  </thead>\n",
       "  <tbody>\n",
       "    <tr>\n",
       "      <th>0</th>\n",
       "      <td>++0Dxza60/nPDbfORBYuuA==</td>\n",
       "      <td>2022-02-26</td>\n",
       "      <td>20</td>\n",
       "      <td>16.0</td>\n",
       "      <td>40.395</td>\n",
       "    </tr>\n",
       "    <tr>\n",
       "      <th>1</th>\n",
       "      <td>++0f45nPCVLLplbn4+Duvw==</td>\n",
       "      <td>2022-02-12</td>\n",
       "      <td>34</td>\n",
       "      <td>12.0</td>\n",
       "      <td>38.580</td>\n",
       "    </tr>\n",
       "    <tr>\n",
       "      <th>2</th>\n",
       "      <td>++4FV+zpIjWYGOp00jDigw==</td>\n",
       "      <td>2022-03-12</td>\n",
       "      <td>6</td>\n",
       "      <td>14.0</td>\n",
       "      <td>41.925</td>\n",
       "    </tr>\n",
       "    <tr>\n",
       "      <th>3</th>\n",
       "      <td>++5RExvb0CRlvMSB2J+kLg==</td>\n",
       "      <td>2022-02-27</td>\n",
       "      <td>19</td>\n",
       "      <td>18.0</td>\n",
       "      <td>37.170</td>\n",
       "    </tr>\n",
       "    <tr>\n",
       "      <th>4</th>\n",
       "      <td>++7/YKNQbfW4zR5VkdIf7A==</td>\n",
       "      <td>2022-03-08</td>\n",
       "      <td>10</td>\n",
       "      <td>144.0</td>\n",
       "      <td>379.740</td>\n",
       "    </tr>\n",
       "  </tbody>\n",
       "</table>\n",
       "</div>"
      ],
      "text/plain": [
       "                 customerId LastPurshaceDate  Recency  Frequency  Monetary\n",
       "0  ++0Dxza60/nPDbfORBYuuA==       2022-02-26       20       16.0    40.395\n",
       "1  ++0f45nPCVLLplbn4+Duvw==       2022-02-12       34       12.0    38.580\n",
       "2  ++4FV+zpIjWYGOp00jDigw==       2022-03-12        6       14.0    41.925\n",
       "3  ++5RExvb0CRlvMSB2J+kLg==       2022-02-27       19       18.0    37.170\n",
       "4  ++7/YKNQbfW4zR5VkdIf7A==       2022-03-08       10      144.0   379.740"
      ]
     },
     "execution_count": 34,
     "metadata": {},
     "output_type": "execute_result"
    }
   ],
   "source": [
    "df_rfm.head()"
   ]
  },
  {
   "cell_type": "code",
   "execution_count": 35,
   "id": "079115da",
   "metadata": {},
   "outputs": [
    {
     "data": {
      "text/html": [
       "<div>\n",
       "<style scoped>\n",
       "    .dataframe tbody tr th:only-of-type {\n",
       "        vertical-align: middle;\n",
       "    }\n",
       "\n",
       "    .dataframe tbody tr th {\n",
       "        vertical-align: top;\n",
       "    }\n",
       "\n",
       "    .dataframe thead th {\n",
       "        text-align: right;\n",
       "    }\n",
       "</style>\n",
       "<table border=\"1\" class=\"dataframe\">\n",
       "  <thead>\n",
       "    <tr style=\"text-align: right;\">\n",
       "      <th></th>\n",
       "      <th>Recency</th>\n",
       "      <th>Frequency</th>\n",
       "      <th>Monetary</th>\n",
       "    </tr>\n",
       "  </thead>\n",
       "  <tbody>\n",
       "    <tr>\n",
       "      <th>0.25</th>\n",
       "      <td>20.0</td>\n",
       "      <td>10.0</td>\n",
       "      <td>41.49</td>\n",
       "    </tr>\n",
       "    <tr>\n",
       "      <th>0.50</th>\n",
       "      <td>40.0</td>\n",
       "      <td>14.0</td>\n",
       "      <td>49.71</td>\n",
       "    </tr>\n",
       "    <tr>\n",
       "      <th>0.75</th>\n",
       "      <td>58.0</td>\n",
       "      <td>20.0</td>\n",
       "      <td>75.57</td>\n",
       "    </tr>\n",
       "  </tbody>\n",
       "</table>\n",
       "</div>"
      ],
      "text/plain": [
       "      Recency  Frequency  Monetary\n",
       "0.25     20.0       10.0     41.49\n",
       "0.50     40.0       14.0     49.71\n",
       "0.75     58.0       20.0     75.57"
      ]
     },
     "execution_count": 35,
     "metadata": {},
     "output_type": "execute_result"
    }
   ],
   "source": [
    "quartiles = df_rfm.select_dtypes(include=['number']).quantile(q=[0.25, 0.5, 0.75])\n",
    "quartiles"
   ]
  },
  {
   "cell_type": "code",
   "execution_count": 36,
   "id": "ee0ed224",
   "metadata": {},
   "outputs": [],
   "source": [
    "def RScore(x,p,d):\n",
    "    if x <= d[p][0.25]:\n",
    "        return 4\n",
    "    elif x <= d[p][0.50]:\n",
    "        return 3\n",
    "    elif x <= d[p][0.75]: \n",
    "        return 2\n",
    "    else:\n",
    "        return 1\n",
    "\n",
    "def FMScore(x,p,d):\n",
    "    if x <= d[p][0.25]:\n",
    "        return 1\n",
    "    elif x <= d[p][0.50]:\n",
    "        return 2\n",
    "    elif x <= d[p][0.75]: \n",
    "        return 3\n",
    "    else:\n",
    "        return 4"
   ]
  },
  {
   "cell_type": "code",
   "execution_count": 37,
   "id": "6db1b77c",
   "metadata": {},
   "outputs": [],
   "source": [
    "rfm_segmentation = df_rfm\n",
    "rfm_segmentation['R_Quartile'] = rfm_segmentation['Recency'].apply(RScore, args=('Recency',quartiles,))\n",
    "rfm_segmentation['F_Quartile'] = rfm_segmentation['Frequency'].apply(FMScore, args=('Frequency',quartiles,))\n",
    "rfm_segmentation['M_Quartile'] = rfm_segmentation['Monetary'].apply(FMScore, args=('Monetary',quartiles,))"
   ]
  },
  {
   "cell_type": "code",
   "execution_count": 38,
   "id": "3618c54a",
   "metadata": {},
   "outputs": [
    {
     "data": {
      "text/html": [
       "<div>\n",
       "<style scoped>\n",
       "    .dataframe tbody tr th:only-of-type {\n",
       "        vertical-align: middle;\n",
       "    }\n",
       "\n",
       "    .dataframe tbody tr th {\n",
       "        vertical-align: top;\n",
       "    }\n",
       "\n",
       "    .dataframe thead th {\n",
       "        text-align: right;\n",
       "    }\n",
       "</style>\n",
       "<table border=\"1\" class=\"dataframe\">\n",
       "  <thead>\n",
       "    <tr style=\"text-align: right;\">\n",
       "      <th></th>\n",
       "      <th>customerId</th>\n",
       "      <th>LastPurshaceDate</th>\n",
       "      <th>Recency</th>\n",
       "      <th>Frequency</th>\n",
       "      <th>Monetary</th>\n",
       "      <th>R_Quartile</th>\n",
       "      <th>F_Quartile</th>\n",
       "      <th>M_Quartile</th>\n",
       "    </tr>\n",
       "  </thead>\n",
       "  <tbody>\n",
       "    <tr>\n",
       "      <th>0</th>\n",
       "      <td>++0Dxza60/nPDbfORBYuuA==</td>\n",
       "      <td>2022-02-26</td>\n",
       "      <td>20</td>\n",
       "      <td>16.0</td>\n",
       "      <td>40.395</td>\n",
       "      <td>4</td>\n",
       "      <td>3</td>\n",
       "      <td>1</td>\n",
       "    </tr>\n",
       "    <tr>\n",
       "      <th>1</th>\n",
       "      <td>++0f45nPCVLLplbn4+Duvw==</td>\n",
       "      <td>2022-02-12</td>\n",
       "      <td>34</td>\n",
       "      <td>12.0</td>\n",
       "      <td>38.580</td>\n",
       "      <td>3</td>\n",
       "      <td>2</td>\n",
       "      <td>1</td>\n",
       "    </tr>\n",
       "    <tr>\n",
       "      <th>2</th>\n",
       "      <td>++4FV+zpIjWYGOp00jDigw==</td>\n",
       "      <td>2022-03-12</td>\n",
       "      <td>6</td>\n",
       "      <td>14.0</td>\n",
       "      <td>41.925</td>\n",
       "      <td>4</td>\n",
       "      <td>2</td>\n",
       "      <td>2</td>\n",
       "    </tr>\n",
       "    <tr>\n",
       "      <th>3</th>\n",
       "      <td>++5RExvb0CRlvMSB2J+kLg==</td>\n",
       "      <td>2022-02-27</td>\n",
       "      <td>19</td>\n",
       "      <td>18.0</td>\n",
       "      <td>37.170</td>\n",
       "      <td>4</td>\n",
       "      <td>3</td>\n",
       "      <td>1</td>\n",
       "    </tr>\n",
       "    <tr>\n",
       "      <th>4</th>\n",
       "      <td>++7/YKNQbfW4zR5VkdIf7A==</td>\n",
       "      <td>2022-03-08</td>\n",
       "      <td>10</td>\n",
       "      <td>144.0</td>\n",
       "      <td>379.740</td>\n",
       "      <td>4</td>\n",
       "      <td>4</td>\n",
       "      <td>4</td>\n",
       "    </tr>\n",
       "  </tbody>\n",
       "</table>\n",
       "</div>"
      ],
      "text/plain": [
       "                 customerId LastPurshaceDate  Recency  Frequency  Monetary  \\\n",
       "0  ++0Dxza60/nPDbfORBYuuA==       2022-02-26       20       16.0    40.395   \n",
       "1  ++0f45nPCVLLplbn4+Duvw==       2022-02-12       34       12.0    38.580   \n",
       "2  ++4FV+zpIjWYGOp00jDigw==       2022-03-12        6       14.0    41.925   \n",
       "3  ++5RExvb0CRlvMSB2J+kLg==       2022-02-27       19       18.0    37.170   \n",
       "4  ++7/YKNQbfW4zR5VkdIf7A==       2022-03-08       10      144.0   379.740   \n",
       "\n",
       "   R_Quartile  F_Quartile  M_Quartile  \n",
       "0           4           3           1  \n",
       "1           3           2           1  \n",
       "2           4           2           2  \n",
       "3           4           3           1  \n",
       "4           4           4           4  "
      ]
     },
     "execution_count": 38,
     "metadata": {},
     "output_type": "execute_result"
    }
   ],
   "source": [
    "rfm_segmentation.head()"
   ]
  },
  {
   "cell_type": "code",
   "execution_count": 39,
   "id": "53ea0788",
   "metadata": {},
   "outputs": [
    {
     "data": {
      "text/html": [
       "<div>\n",
       "<style scoped>\n",
       "    .dataframe tbody tr th:only-of-type {\n",
       "        vertical-align: middle;\n",
       "    }\n",
       "\n",
       "    .dataframe tbody tr th {\n",
       "        vertical-align: top;\n",
       "    }\n",
       "\n",
       "    .dataframe thead th {\n",
       "        text-align: right;\n",
       "    }\n",
       "</style>\n",
       "<table border=\"1\" class=\"dataframe\">\n",
       "  <thead>\n",
       "    <tr style=\"text-align: right;\">\n",
       "      <th></th>\n",
       "      <th>customerId</th>\n",
       "      <th>LastPurshaceDate</th>\n",
       "      <th>Recency</th>\n",
       "      <th>Frequency</th>\n",
       "      <th>Monetary</th>\n",
       "      <th>R_Quartile</th>\n",
       "      <th>F_Quartile</th>\n",
       "      <th>M_Quartile</th>\n",
       "      <th>RFMScore</th>\n",
       "    </tr>\n",
       "  </thead>\n",
       "  <tbody>\n",
       "    <tr>\n",
       "      <th>0</th>\n",
       "      <td>++0Dxza60/nPDbfORBYuuA==</td>\n",
       "      <td>2022-02-26</td>\n",
       "      <td>20</td>\n",
       "      <td>16.0</td>\n",
       "      <td>40.395</td>\n",
       "      <td>4</td>\n",
       "      <td>3</td>\n",
       "      <td>1</td>\n",
       "      <td>431</td>\n",
       "    </tr>\n",
       "    <tr>\n",
       "      <th>1</th>\n",
       "      <td>++0f45nPCVLLplbn4+Duvw==</td>\n",
       "      <td>2022-02-12</td>\n",
       "      <td>34</td>\n",
       "      <td>12.0</td>\n",
       "      <td>38.580</td>\n",
       "      <td>3</td>\n",
       "      <td>2</td>\n",
       "      <td>1</td>\n",
       "      <td>321</td>\n",
       "    </tr>\n",
       "    <tr>\n",
       "      <th>2</th>\n",
       "      <td>++4FV+zpIjWYGOp00jDigw==</td>\n",
       "      <td>2022-03-12</td>\n",
       "      <td>6</td>\n",
       "      <td>14.0</td>\n",
       "      <td>41.925</td>\n",
       "      <td>4</td>\n",
       "      <td>2</td>\n",
       "      <td>2</td>\n",
       "      <td>422</td>\n",
       "    </tr>\n",
       "    <tr>\n",
       "      <th>3</th>\n",
       "      <td>++5RExvb0CRlvMSB2J+kLg==</td>\n",
       "      <td>2022-02-27</td>\n",
       "      <td>19</td>\n",
       "      <td>18.0</td>\n",
       "      <td>37.170</td>\n",
       "      <td>4</td>\n",
       "      <td>3</td>\n",
       "      <td>1</td>\n",
       "      <td>431</td>\n",
       "    </tr>\n",
       "    <tr>\n",
       "      <th>4</th>\n",
       "      <td>++7/YKNQbfW4zR5VkdIf7A==</td>\n",
       "      <td>2022-03-08</td>\n",
       "      <td>10</td>\n",
       "      <td>144.0</td>\n",
       "      <td>379.740</td>\n",
       "      <td>4</td>\n",
       "      <td>4</td>\n",
       "      <td>4</td>\n",
       "      <td>444</td>\n",
       "    </tr>\n",
       "  </tbody>\n",
       "</table>\n",
       "</div>"
      ],
      "text/plain": [
       "                 customerId LastPurshaceDate  Recency  Frequency  Monetary  \\\n",
       "0  ++0Dxza60/nPDbfORBYuuA==       2022-02-26       20       16.0    40.395   \n",
       "1  ++0f45nPCVLLplbn4+Duvw==       2022-02-12       34       12.0    38.580   \n",
       "2  ++4FV+zpIjWYGOp00jDigw==       2022-03-12        6       14.0    41.925   \n",
       "3  ++5RExvb0CRlvMSB2J+kLg==       2022-02-27       19       18.0    37.170   \n",
       "4  ++7/YKNQbfW4zR5VkdIf7A==       2022-03-08       10      144.0   379.740   \n",
       "\n",
       "   R_Quartile  F_Quartile  M_Quartile RFMScore  \n",
       "0           4           3           1      431  \n",
       "1           3           2           1      321  \n",
       "2           4           2           2      422  \n",
       "3           4           3           1      431  \n",
       "4           4           4           4      444  "
      ]
     },
     "execution_count": 39,
     "metadata": {},
     "output_type": "execute_result"
    }
   ],
   "source": [
    "rfm_segmentation['RFMScore'] = rfm_segmentation.R_Quartile.map(str) \\\n",
    "                            + rfm_segmentation.F_Quartile.map(str) \\\n",
    "                            + rfm_segmentation.M_Quartile.map(str)\n",
    "rfm_segmentation.head()"
   ]
  },
  {
   "cell_type": "markdown",
   "id": "4b694f1d-aee3-40ad-a4cf-d93369cbc4e7",
   "metadata": {},
   "source": [
    "### 📌 Segmentation Logic & Insights  \n",
    "- **Best Customers (444)**: Highly engaged & valuable—retain with loyalty programs.  \n",
    "- **Loyal Customers (High R & F)**: Frequent buyers—nurture with personalized offers.  \n",
    "- **Big Spenders (High M)**: High spenders—upsell & provide premium services.  \n",
    "- **Almost Lost (244)**: Previously valuable but inactive—win-back strategies needed.  \n",
    "- **Lost Customers (144)**: Long inactive—target with re-engagement incentives.  \n",
    "- **Lost Cheap Customers (111)**: Low-value & inactive—minimal effort unless profitable.  \n"
   ]
  },
  {
   "cell_type": "code",
   "execution_count": 40,
   "id": "ca12281f",
   "metadata": {},
   "outputs": [],
   "source": [
    "def get_status(row):\n",
    "    if '444' in row['RFMScore']:\n",
    "        return 'Best Customers'\n",
    "    elif '244' in row['RFMScore']: \n",
    "        return 'Almost Lost'\n",
    "    elif '144' in row['RFMScore']: \n",
    "        return 'Lost Customers'\n",
    "    elif '111' in row['RFMScore']: \n",
    "        return 'Lost Cheap Customers'\n",
    "    elif '4' in str(row['R_Quartile']) and '4' in str(row['F_Quartile']):\n",
    "        return 'Loyal Customers'\n",
    "    elif '4' in str(row['M_Quartile']):\n",
    "        return 'Big Spenders'\n",
    "    else:\n",
    "        return 'Others'\n",
    "\n",
    "rfm_segmentation[\"Status\"]= rfm_segmentation.apply(get_status, axis=1)"
   ]
  },
  {
   "cell_type": "markdown",
   "id": "190c5b21-c332-4955-b794-b5f7f029f103",
   "metadata": {},
   "source": [
    "### Insights from Heatmap Analysis  \n",
    "\n",
    "The heatmap visualizes the **average Monetary Score** based on Recency (R) and Frequency (F) quartiles. Key observations include:  \n",
    "\n",
    "- **Higher Frequency leads to higher Monetary values**: As we move right across the heatmap (higher F_Quartile), the Monetary Score increases consistently. This indicates that frequent buyers tend to spend more.  \n",
    "- **Recent buyers (higher R_Quartile) show stable spending patterns**: The Monetary Score remains relatively high for customers in R_Quartile 4, suggesting that retaining recent customers is beneficial for revenue.  \n",
    "- **Customers with low Frequency and Recency (bottom-left) have the lowest Monetary values**: These segments (R_Quartile 1, F_Quartile 1) indicate inactive or lost customers with minimal spending.  \n",
    "- **High-value customers (top-right)**: The highest Monetary Score is observed at **(R_Quartile 4, F_Quartile 4)**, confirming that the most recent and frequent customers contribute the most revenue.  \n",
    "\n",
    "**Actionable Takeaways**:  \n",
    "📌 Focus retention efforts on customers in **R_Quartile 3 & 4** to maintain spending levels.  \n",
    "📌 Develop re-engagement strategies for low Recency & Frequency customers to increase monetary contributions.  \n",
    "📌 Reward high-frequency customers with personalized offers to sustain loyalty and spending behavior.  \n"
   ]
  },
  {
   "cell_type": "code",
   "execution_count": 41,
   "id": "3a863f67",
   "metadata": {},
   "outputs": [
    {
     "data": {
      "image/png": "[encoded data removed]",
      "text/plain": [
       "<Figure size 1000x800 with 2 Axes>"
      ]
     },
     "metadata": {},
     "output_type": "display_data"
    }
   ],
   "source": [
    "import seaborn as sns\n",
    "import matplotlib.pyplot as plt\n",
    "\n",
    "# Assuming you have a DataFrame `rfm` with columns 'Recency_Score', 'Frequency_Score', 'Monetary_Score'\n",
    "heatmap_data = rfm_segmentation.groupby(['R_Quartile', 'F_Quartile'])['M_Quartile'].mean().reset_index()\n",
    "heatmap_pivot = heatmap_data.pivot(index='R_Quartile', columns='F_Quartile', values='M_Quartile')\n",
    "\n",
    "\n",
    "plt.figure(figsize=(10, 8))\n",
    "sns.heatmap(heatmap_pivot, annot=True, fmt=\".2f\", cmap=\"YlGnBu\", cbar=True)\n",
    "plt.title(\"Heatmap of Average Monetary Score by R and F Scores\")\n",
    "plt.xlabel(\"Frequency Score\")\n",
    "plt.ylabel(\"Recency Score\")\n",
    "plt.show()\n"
   ]
  },
  {
   "cell_type": "code",
   "execution_count": 42,
   "id": "66d5338c",
   "metadata": {},
   "outputs": [
    {
     "data": {
      "application/vnd.plotly.v1+json": {
       "config": {
        "plotlyServerURL": "https://plot.ly"
       },
       "data": [
        {
         "fill": "toself",
         "hovertemplate": "Status=Almost Lost<br>Score=%{r}<br>Metric=%{theta}<extra></extra>",
         "legendgroup": "Almost Lost",
         "line": {
          "color": "#636efa",
          "dash": "solid"
         },
         "marker": {
          "symbol": "circle"
         },
         "mode": "lines",
         "name": "Almost Lost",
         "r": [
          2,
          4,
          4,
          2
         ],
         "showlegend": true,
         "subplot": "polar",
         "theta": [
          "R_Quartile",
          "F_Quartile",
          "M_Quartile",
          "R_Quartile"
         ],
         "type": "scatterpolar"
        },
        {
         "fill": "toself",
         "hovertemplate": "Status=Best Customers<br>Score=%{r}<br>Metric=%{theta}<extra></extra>",
         "legendgroup": "Best Customers",
         "line": {
          "color": "#EF553B",
          "dash": "solid"
         },
         "marker": {
          "symbol": "circle"
         },
         "mode": "lines",
         "name": "Best Customers",
         "r": [
          4,
          4,
          4,
          4
         ],
         "showlegend": true,
         "subplot": "polar",
         "theta": [
          "R_Quartile",
          "F_Quartile",
          "M_Quartile",
          "R_Quartile"
         ],
         "type": "scatterpolar"
        },
        {
         "fill": "toself",
         "hovertemplate": "Status=Big Spenders<br>Score=%{r}<br>Metric=%{theta}<extra></extra>",
         "legendgroup": "Big Spenders",
         "line": {
          "color": "#00cc96",
          "dash": "solid"
         },
         "marker": {
          "symbol": "circle"
         },
         "mode": "lines",
         "name": "Big Spenders",
         "r": [
          2.6568705774937227,
          3.193848436430039,
          4,
          2.6568705774937227
         ],
         "showlegend": true,
         "subplot": "polar",
         "theta": [
          "R_Quartile",
          "F_Quartile",
          "M_Quartile",
          "R_Quartile"
         ],
         "type": "scatterpolar"
        },
        {
         "fill": "toself",
         "hovertemplate": "Status=Lost Cheap Customers<br>Score=%{r}<br>Metric=%{theta}<extra></extra>",
         "legendgroup": "Lost Cheap Customers",
         "line": {
          "color": "#ab63fa",
          "dash": "solid"
         },
         "marker": {
          "symbol": "circle"
         },
         "mode": "lines",
         "name": "Lost Cheap Customers",
         "r": [
          1,
          1,
          1,
          1
         ],
         "showlegend": true,
         "subplot": "polar",
         "theta": [
          "R_Quartile",
          "F_Quartile",
          "M_Quartile",
          "R_Quartile"
         ],
         "type": "scatterpolar"
        },
        {
         "fill": "toself",
         "hovertemplate": "Status=Lost Customers<br>Score=%{r}<br>Metric=%{theta}<extra></extra>",
         "legendgroup": "Lost Customers",
         "line": {
          "color": "#FFA15A",
          "dash": "solid"
         },
         "marker": {
          "symbol": "circle"
         },
         "mode": "lines",
         "name": "Lost Customers",
         "r": [
          1,
          4,
          4,
          1
         ],
         "showlegend": true,
         "subplot": "polar",
         "theta": [
          "R_Quartile",
          "F_Quartile",
          "M_Quartile",
          "R_Quartile"
         ],
         "type": "scatterpolar"
        },
        {
         "fill": "toself",
         "hovertemplate": "Status=Loyal Customers<br>Score=%{r}<br>Metric=%{theta}<extra></extra>",
         "legendgroup": "Loyal Customers",
         "line": {
          "color": "#19d3f3",
          "dash": "solid"
         },
         "marker": {
          "symbol": "circle"
         },
         "mode": "lines",
         "name": "Loyal Customers",
         "r": [
          4,
          4,
          2.445807770961145,
          4
         ],
         "showlegend": true,
         "subplot": "polar",
         "theta": [
          "R_Quartile",
          "F_Quartile",
          "M_Quartile",
          "R_Quartile"
         ],
         "type": "scatterpolar"
        },
        {
         "fill": "toself",
         "hovertemplate": "Status=Others<br>Score=%{r}<br>Metric=%{theta}<extra></extra>",
         "legendgroup": "Others",
         "line": {
          "color": "#FF6692",
          "dash": "solid"
         },
         "marker": {
          "symbol": "circle"
         },
         "mode": "lines",
         "name": "Others",
         "r": [
          2.5454206199323752,
          1.9019213154055796,
          2.0677718847889266,
          2.5454206199323752
         ],
         "showlegend": true,
         "subplot": "polar",
         "theta": [
          "R_Quartile",
          "F_Quartile",
          "M_Quartile",
          "R_Quartile"
         ],
         "type": "scatterpolar"
        }
       ],
       "layout": {
        "legend": {
         "title": {
          "text": "Status"
         },
         "tracegroupgap": 0
        },
        "margin": {
         "t": 60
        },
        "polar": {
         "angularaxis": {
          "direction": "clockwise",
          "rotation": 90
         },
         "domain": {
          "x": [
           0,
           1
          ],
          "y": [
           0,
           1
          ]
         },
         "radialaxis": {
          "visible": true
         }
        },
        "template": {
         "data": {
          "bar": [
           {
            "error_x": {
             "color": "#2a3f5f"
            },
            "error_y": {
             "color": "#2a3f5f"
            },
            "marker": {
             "line": {
              "color": "#E5ECF6",
              "width": 0.5
             },
             "pattern": {
              "fillmode": "overlay",
              "size": 10,
              "solidity": 0.2
             }
            },
            "type": "bar"
           }
          ],
          "barpolar": [
           {
            "marker": {
             "line": {
              "color": "#E5ECF6",
              "width": 0.5
             },
             "pattern": {
              "fillmode": "overlay",
              "size": 10,
              "solidity": 0.2
             }
            },
            "type": "barpolar"
           }
          ],
          "carpet": [
           {
            "aaxis": {
             "endlinecolor": "#2a3f5f",
             "gridcolor": "white",
             "linecolor": "white",
             "minorgridcolor": "white",
             "startlinecolor": "#2a3f5f"
            },
            "baxis": {
             "endlinecolor": "#2a3f5f",
             "gridcolor": "white",
             "linecolor": "white",
             "minorgridcolor": "white",
             "startlinecolor": "#2a3f5f"
            },
            "type": "carpet"
           }
          ],
          "choropleth": [
           {
            "colorbar": {
             "outlinewidth": 0,
             "ticks": ""
            },
            "type": "choropleth"
           }
          ],
          "contour": [
           {
            "colorbar": {
             "outlinewidth": 0,
             "ticks": ""
            },
            "colorscale": [
             [
              0,
              "#0d0887"
             ],
             [
              0.1111111111111111,
              "#46039f"
             ],
             [
              0.2222222222222222,
              "#7201a8"
             ],
             [
              0.3333333333333333,
              "#9c179e"
             ],
             [
              0.4444444444444444,
              "#bd3786"
             ],
             [
              0.5555555555555556,
              "#d8576b"
             ],
             [
              0.6666666666666666,
              "#ed7953"
             ],
             [
              0.7777777777777778,
              "#fb9f3a"
             ],
             [
              0.8888888888888888,
              "#fdca26"
             ],
             [
              1,
              "#f0f921"
             ]
            ],
            "type": "contour"
           }
          ],
          "contourcarpet": [
           {
            "colorbar": {
             "outlinewidth": 0,
             "ticks": ""
            },
            "type": "contourcarpet"
           }
          ],
          "heatmap": [
           {
            "colorbar": {
             "outlinewidth": 0,
             "ticks": ""
            },
            "colorscale": [
             [
              0,
              "#0d0887"
             ],
             [
              0.1111111111111111,
              "#46039f"
             ],
             [
              0.2222222222222222,
              "#7201a8"
             ],
             [
              0.3333333333333333,
              "#9c179e"
             ],
             [
              0.4444444444444444,
              "#bd3786"
             ],
             [
              0.5555555555555556,
              "#d8576b"
             ],
             [
              0.6666666666666666,
              "#ed7953"
             ],
             [
              0.7777777777777778,
              "#fb9f3a"
             ],
             [
              0.8888888888888888,
              "#fdca26"
             ],
             [
              1,
              "#f0f921"
             ]
            ],
            "type": "heatmap"
           }
          ],
          "heatmapgl": [
           {
            "colorbar": {
             "outlinewidth": 0,
             "ticks": ""
            },
            "colorscale": [
             [
              0,
              "#0d0887"
             ],
             [
              0.1111111111111111,
              "#46039f"
             ],
             [
              0.2222222222222222,
              "#7201a8"
             ],
             [
              0.3333333333333333,
              "#9c179e"
             ],
             [
              0.4444444444444444,
              "#bd3786"
             ],
             [
              0.5555555555555556,
              "#d8576b"
             ],
             [
              0.6666666666666666,
              "#ed7953"
             ],
             [
              0.7777777777777778,
              "#fb9f3a"
             ],
             [
              0.8888888888888888,
              "#fdca26"
             ],
             [
              1,
              "#f0f921"
             ]
            ],
            "type": "heatmapgl"
           }
          ],
          "histogram": [
           {
            "marker": {
             "pattern": {
              "fillmode": "overlay",
              "size": 10,
              "solidity": 0.2
             }
            },
            "type": "histogram"
           }
          ],
          "histogram2d": [
           {
            "colorbar": {
             "outlinewidth": 0,
             "ticks": ""
            },
            "colorscale": [
             [
              0,
              "#0d0887"
             ],
             [
              0.1111111111111111,
              "#46039f"
             ],
             [
              0.2222222222222222,
              "#7201a8"
             ],
             [
              0.3333333333333333,
              "#9c179e"
             ],
             [
              0.4444444444444444,
              "#bd3786"
             ],
             [
              0.5555555555555556,
              "#d8576b"
             ],
             [
              0.6666666666666666,
              "#ed7953"
             ],
             [
              0.7777777777777778,
              "#fb9f3a"
             ],
             [
              0.8888888888888888,
              "#fdca26"
             ],
             [
              1,
              "#f0f921"
             ]
            ],
            "type": "histogram2d"
           }
          ],
          "histogram2dcontour": [
           {
            "colorbar": {
             "outlinewidth": 0,
             "ticks": ""
            },
            "colorscale": [
             [
              0,
              "#0d0887"
             ],
             [
              0.1111111111111111,
              "#46039f"
             ],
             [
              0.2222222222222222,
              "#7201a8"
             ],
             [
              0.3333333333333333,
              "#9c179e"
             ],
             [
              0.4444444444444444,
              "#bd3786"
             ],
             [
              0.5555555555555556,
              "#d8576b"
             ],
             [
              0.6666666666666666,
              "#ed7953"
             ],
             [
              0.7777777777777778,
              "#fb9f3a"
             ],
             [
              0.8888888888888888,
              "#fdca26"
             ],
             [
              1,
              "#f0f921"
             ]
            ],
            "type": "histogram2dcontour"
           }
          ],
          "mesh3d": [
           {
            "colorbar": {
             "outlinewidth": 0,
             "ticks": ""
            },
            "type": "mesh3d"
           }
          ],
          "parcoords": [
           {
            "line": {
             "colorbar": {
              "outlinewidth": 0,
              "ticks": ""
             }
            },
            "type": "parcoords"
           }
          ],
          "pie": [
           {
            "automargin": true,
            "type": "pie"
           }
          ],
          "scatter": [
           {
            "fillpattern": {
             "fillmode": "overlay",
             "size": 10,
             "solidity": 0.2
            },
            "type": "scatter"
           }
          ],
          "scatter3d": [
           {
            "line": {
             "colorbar": {
              "outlinewidth": 0,
              "ticks": ""
             }
            },
            "marker": {
             "colorbar": {
              "outlinewidth": 0,
              "ticks": ""
             }
            },
            "type": "scatter3d"
           }
          ],
          "scattercarpet": [
           {
            "marker": {
             "colorbar": {
              "outlinewidth": 0,
              "ticks": ""
             }
            },
            "type": "scattercarpet"
           }
          ],
          "scattergeo": [
           {
            "marker": {
             "colorbar": {
              "outlinewidth": 0,
              "ticks": ""
             }
            },
            "type": "scattergeo"
           }
          ],
          "scattergl": [
           {
            "marker": {
             "colorbar": {
              "outlinewidth": 0,
              "ticks": ""
             }
            },
            "type": "scattergl"
           }
          ],
          "scattermapbox": [
           {
            "marker": {
             "colorbar": {
              "outlinewidth": 0,
              "ticks": ""
             }
            },
            "type": "scattermapbox"
           }
          ],
          "scatterpolar": [
           {
            "marker": {
             "colorbar": {
              "outlinewidth": 0,
              "ticks": ""
             }
            },
            "type": "scatterpolar"
           }
          ],
          "scatterpolargl": [
           {
            "marker": {
             "colorbar": {
              "outlinewidth": 0,
              "ticks": ""
             }
            },
            "type": "scatterpolargl"
           }
          ],
          "scatterternary": [
           {
            "marker": {
             "colorbar": {
              "outlinewidth": 0,
              "ticks": ""
             }
            },
            "type": "scatterternary"
           }
          ],
          "surface": [
           {
            "colorbar": {
             "outlinewidth": 0,
             "ticks": ""
            },
            "colorscale": [
             [
              0,
              "#0d0887"
             ],
             [
              0.1111111111111111,
              "#46039f"
             ],
             [
              0.2222222222222222,
              "#7201a8"
             ],
             [
              0.3333333333333333,
              "#9c179e"
             ],
             [
              0.4444444444444444,
              "#bd3786"
             ],
             [
              0.5555555555555556,
              "#d8576b"
             ],
             [
              0.6666666666666666,
              "#ed7953"
             ],
             [
              0.7777777777777778,
              "#fb9f3a"
             ],
             [
              0.8888888888888888,
              "#fdca26"
             ],
             [
              1,
              "#f0f921"
             ]
            ],
            "type": "surface"
           }
          ],
          "table": [
           {
            "cells": {
             "fill": {
              "color": "#EBF0F8"
             },
             "line": {
              "color": "white"
             }
            },
            "header": {
             "fill": {
              "color": "#C8D4E3"
             },
             "line": {
              "color": "white"
             }
            },
            "type": "table"
           }
          ]
         },
         "layout": {
          "annotationdefaults": {
           "arrowcolor": "#2a3f5f",
           "arrowhead": 0,
           "arrowwidth": 1
          },
          "autotypenumbers": "strict",
          "coloraxis": {
           "colorbar": {
            "outlinewidth": 0,
            "ticks": ""
           }
          },
          "colorscale": {
           "diverging": [
            [
             0,
             "#8e0152"
            ],
            [
             0.1,
             "#c51b7d"
            ],
            [
             0.2,
             "#de77ae"
            ],
            [
             0.3,
             "#f1b6da"
            ],
            [
             0.4,
             "#fde0ef"
            ],
            [
             0.5,
             "#f7f7f7"
            ],
            [
             0.6,
             "#e6f5d0"
            ],
            [
             0.7,
             "#b8e186"
            ],
            [
             0.8,
             "#7fbc41"
            ],
            [
             0.9,
             "#4d9221"
            ],
            [
             1,
             "#276419"
            ]
           ],
           "sequential": [
            [
             0,
             "#0d0887"
            ],
            [
             0.1111111111111111,
             "#46039f"
            ],
            [
             0.2222222222222222,
             "#7201a8"
            ],
            [
             0.3333333333333333,
             "#9c179e"
            ],
            [
             0.4444444444444444,
             "#bd3786"
            ],
            [
             0.5555555555555556,
             "#d8576b"
            ],
            [
             0.6666666666666666,
             "#ed7953"
            ],
            [
             0.7777777777777778,
             "#fb9f3a"
            ],
            [
             0.8888888888888888,
             "#fdca26"
            ],
            [
             1,
             "#f0f921"
            ]
           ],
           "sequentialminus": [
            [
             0,
             "#0d0887"
            ],
            [
             0.1111111111111111,
             "#46039f"
            ],
            [
             0.2222222222222222,
             "#7201a8"
            ],
            [
             0.3333333333333333,
             "#9c179e"
            ],
            [
             0.4444444444444444,
             "#bd3786"
            ],
            [
             0.5555555555555556,
             "#d8576b"
            ],
            [
             0.6666666666666666,
             "#ed7953"
            ],
            [
             0.7777777777777778,
             "#fb9f3a"
            ],
            [
             0.8888888888888888,
             "#fdca26"
            ],
            [
             1,
             "#f0f921"
            ]
           ]
          },
          "colorway": [
           "#636efa",
           "#EF553B",
           "#00cc96",
           "#ab63fa",
           "#FFA15A",
           "#19d3f3",
           "#FF6692",
           "#B6E880",
           "#FF97FF",
           "#FECB52"
          ],
          "font": {
           "color": "#2a3f5f"
          },
          "geo": {
           "bgcolor": "white",
           "lakecolor": "white",
           "landcolor": "#E5ECF6",
           "showlakes": true,
           "showland": true,
           "subunitcolor": "white"
          },
          "hoverlabel": {
           "align": "left"
          },
          "hovermode": "closest",
          "mapbox": {
           "style": "light"
          },
          "paper_bgcolor": "white",
          "plot_bgcolor": "#E5ECF6",
          "polar": {
           "angularaxis": {
            "gridcolor": "white",
            "linecolor": "white",
            "ticks": ""
           },
           "bgcolor": "#E5ECF6",
           "radialaxis": {
            "gridcolor": "white",
            "linecolor": "white",
            "ticks": ""
           }
          },
          "scene": {
           "xaxis": {
            "backgroundcolor": "#E5ECF6",
            "gridcolor": "white",
            "gridwidth": 2,
            "linecolor": "white",
            "showbackground": true,
            "ticks": "",
            "zerolinecolor": "white"
           },
           "yaxis": {
            "backgroundcolor": "#E5ECF6",
            "gridcolor": "white",
            "gridwidth": 2,
            "linecolor": "white",
            "showbackground": true,
            "ticks": "",
            "zerolinecolor": "white"
           },
           "zaxis": {
            "backgroundcolor": "#E5ECF6",
            "gridcolor": "white",
            "gridwidth": 2,
            "linecolor": "white",
            "showbackground": true,
            "ticks": "",
            "zerolinecolor": "white"
           }
          },
          "shapedefaults": {
           "line": {
            "color": "#2a3f5f"
           }
          },
          "ternary": {
           "aaxis": {
            "gridcolor": "white",
            "linecolor": "white",
            "ticks": ""
           },
           "baxis": {
            "gridcolor": "white",
            "linecolor": "white",
            "ticks": ""
           },
           "bgcolor": "#E5ECF6",
           "caxis": {
            "gridcolor": "white",
            "linecolor": "white",
            "ticks": ""
           }
          },
          "title": {
           "x": 0.05
          },
          "xaxis": {
           "automargin": true,
           "gridcolor": "white",
           "linecolor": "white",
           "ticks": "",
           "title": {
            "standoff": 15
           },
           "zerolinecolor": "white",
           "zerolinewidth": 2
          },
          "yaxis": {
           "automargin": true,
           "gridcolor": "white",
           "linecolor": "white",
           "ticks": "",
           "title": {
            "standoff": 15
           },
           "zerolinecolor": "white",
           "zerolinewidth": 2
          }
         }
        },
        "title": {
         "text": "Radar Chart of RFM Scores by Segment"
        }
       }
      }
     },
     "metadata": {},
     "output_type": "display_data"
    }
   ],
   "source": [
    "from math import pi\n",
    "import plotly.express as px\n",
    "# Prepare data for radar chart\n",
    "radar_data = rfm_segmentation.groupby('Status')[['R_Quartile', 'F_Quartile', 'M_Quartile']].mean().reset_index()\n",
    "categories = ['R_Quartile', 'F_Quartile', 'M_Quartile']\n",
    "\n",
    "# Convert data for radar chart\n",
    "radar_data_melted = radar_data.melt(id_vars=['Status'], var_name='Metric', value_name='Score')\n",
    "\n",
    "# Create radar chart\n",
    "fig = px.line_polar(radar_data_melted, r='Score', theta='Metric', color='Status', line_close=True)\n",
    "fig.update_traces(fill='toself')\n",
    "fig.update_layout(title='Radar Chart of RFM Scores by Segment', polar=dict(radialaxis=dict(visible=True)))\n",
    "fig.show()\n"
   ]
  },
  {
   "cell_type": "markdown",
   "id": "a89d01d8-dc84-4834-8453-43d61bc625a4",
   "metadata": {},
   "source": [
    "\n",
    "The box plo and distribution plotsts provide a **distribution analysis** of Recency, Frequency, and Monetary values:  \n",
    "\n",
    "- **Recency**: The box plot appears well-defined, indicating that the distribution is relatively balanced. There might be some outliers, but overall, most customers have recent interactions within a reasonable range.  \n",
    "- **Frequency & Monetary**: These distributions show significant **right-skewness**, meaning most customers have low purchase frequency and spending, while a few high-value customers drive up the overall average. Instead of a box, only scattered points (outliers) are visible, which suggests that the data is heavily skewed with extreme values.  \n",
    "\n",
    "#### **Actionable Takeaways**  \n",
    "📌 Since **most customers purchase infrequently**, strategies like loyalty programs or personalized offers can encourage repeat purchases.  \n",
    "📌 **High-spending customers** should be identified and targeted with premium offers to maximize revenue from their continued engagement.  \n",
    "📌 **Data normalization or log transformation** may be useful for modeling, given the extreme skewness in Frequency and Monetary distributions.  \n"
   ]
  },
  {
   "cell_type": "code",
   "execution_count": 43,
   "id": "46709232",
   "metadata": {},
   "outputs": [
    {
     "data": {
      "image/png": "[encoded data removed]",
      "text/plain": [
       "<Figure size 1800x500 with 3 Axes>"
      ]
     },
     "metadata": {},
     "output_type": "display_data"
    }
   ],
   "source": [
    "fig, axes = plt.subplots(1, 3, figsize=(18, 5))\n",
    "\n",
    "# Box plot for Recency\n",
    "rfm_melted = rfm_segmentation.melt(value_vars=['Recency'], var_name='Metric', value_name='Value')\n",
    "sns.boxplot(data=rfm_melted, x='Metric', y='Value', ax=axes[0])\n",
    "axes[0].set_title('Box Plot of Recency')\n",
    "\n",
    "# Box plot for Frequency\n",
    "rfm_melted = rfm_segmentation.melt(value_vars=['Frequency'], var_name='Metric', value_name='Value')\n",
    "sns.boxplot(data=rfm_melted, x='Metric', y='Value', ax=axes[1])\n",
    "axes[1].set_title('Box Plot of Frequency')\n",
    "\n",
    "# Box plot for Monetary\n",
    "rfm_melted = rfm_segmentation.melt(value_vars=['Monetary'], var_name='Metric', value_name='Value')\n",
    "sns.boxplot(data=rfm_melted, x='Metric', y='Value', ax=axes[2])\n",
    "axes[2].set_title('Box Plot of Monetary')\n",
    "\n",
    "plt.tight_layout()\n",
    "plt.show()\n"
   ]
  },
  {
   "cell_type": "code",
   "execution_count": 44,
   "id": "e464b604",
   "metadata": {},
   "outputs": [
    {
     "data": {
      "image/png": "[encoded data removed]",
      "text/plain": [
       "<Figure size 1800x500 with 2 Axes>"
      ]
     },
     "metadata": {},
     "output_type": "display_data"
    }
   ],
   "source": [
    "# Create histograms to check skewness\n",
    "fig, axes = plt.subplots(1, 2, figsize=(18, 5))\n",
    "\n",
    "# Frequency\n",
    "sns.histplot(rfm_segmentation['Frequency'], color='green', ax=axes[0])\n",
    "axes[0].set_title('Distribution of Frequency')\n",
    "axes[0].set_xlabel('Frequency')\n",
    "\n",
    "# Monetary\n",
    "sns.histplot(rfm_segmentation['Monetary'], color='red', ax=axes[1])\n",
    "axes[1].set_title('Distribution of Monetary')\n",
    "axes[1].set_xlabel('Monetary')\n",
    "\n",
    "axes[0].set_xlim(0, 200)\n",
    "axes[1].set_xlim(0, 500)\n",
    "\n",
    "plt.tight_layout()\n",
    "plt.show()\n"
   ]
  },
  {
   "cell_type": "code",
   "execution_count": 45,
   "id": "34a93b2a",
   "metadata": {},
   "outputs": [
    {
     "data": {
      "image/png": "[encoded data removed]",
      "text/plain": [
       "<Figure size 600x600 with 1 Axes>"
      ]
     },
     "metadata": {},
     "output_type": "display_data"
    }
   ],
   "source": [
    "def autopct_format(pct, all_vals):\n",
    "    absolute = int(round(pct / 100. * sum(all_vals)))\n",
    "    return f\"{pct:.1f}%({absolute})\"\n",
    "\n",
    "# Explode parameter to separate slices slightly\n",
    "status_counts = rfm_segmentation['Status'].value_counts()\n",
    "explode = [0.08] * len(status_counts)  # Adjust for each slice if needed\n",
    "\n",
    "# Plot pie chart\n",
    "plt.figure(figsize=(6, 6))\n",
    "plt.pie(\n",
    "    status_counts,\n",
    "    labels=status_counts.index,\n",
    "    explode=explode,\n",
    "    autopct=lambda pct: autopct_format(pct, status_counts),\n",
    "    labeldistance=1.2  # Move labels outside the pie\n",
    ")\n",
    "plt.title(\"Customer Segmentation status distribution\", fontsize=16)\n",
    "plt.show()"
   ]
  },
  {
   "cell_type": "code",
   "execution_count": null,
   "id": "b14d0df5",
   "metadata": {},
   "outputs": [],
   "source": []
  }
 ],
 "metadata": {
  "kernelspec": {
   "display_name": "Python 3",
   "language": "python",
   "name": "python3"
  },
  "language_info": {
   "codemirror_mode": {
    "name": "ipython",
    "version": 3
   },
   "file_extension": ".py",
   "mimetype": "text/x-python",
   "name": "python",
   "nbconvert_exporter": "python",
   "pygments_lexer": "ipython3",
   "version": "3.12.0"
  }
 },
 "nbformat": 4,
 "nbformat_minor": 5
}
