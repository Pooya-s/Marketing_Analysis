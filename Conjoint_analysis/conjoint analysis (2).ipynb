{
 "cells": [
  {
   "cell_type": "markdown",
   "metadata": {},
   "source": [
    "# Conjoint analysis"
   ]
  },
  {
   "cell_type": "markdown",
   "metadata": {},
   "source": [
    "# Step 1: Creation of the bundles\n"
   ]
  },
  {
   "cell_type": "code",
   "execution_count": 1,
   "metadata": {
    "vscode": {
     "languageId": "r"
    }
   },
   "outputs": [
    {
     "name": "stderr",
     "output_type": "stream",
     "text": [
      "Warning message:\n",
      "\"il pacchetto 'radiant' è stato creato con R versione 4.3.3\"\n",
      "Caricamento del pacchetto richiesto: radiant.data\n",
      "\n",
      "Warning message:\n",
      "\"il pacchetto 'radiant.data' è stato creato con R versione 4.3.3\"\n",
      "Caricamento del pacchetto richiesto: magrittr\n",
      "\n",
      "Caricamento del pacchetto richiesto: ggplot2\n",
      "\n",
      "Warning message:\n",
      "\"il pacchetto 'ggplot2' è stato creato con R versione 4.3.2\"\n",
      "Caricamento del pacchetto richiesto: lubridate\n",
      "\n",
      "\n",
      "Caricamento pacchetto: 'lubridate'\n",
      "\n",
      "\n",
      "I seguenti oggetti sono mascherati da 'package:base':\n",
      "\n",
      "    date, intersect, setdiff, union\n",
      "\n",
      "\n",
      "Caricamento del pacchetto richiesto: tidyr\n",
      "\n",
      "\n",
      "Caricamento pacchetto: 'tidyr'\n",
      "\n",
      "\n",
      "Il seguente oggetto è mascherato da 'package:magrittr':\n",
      "\n",
      "    extract\n",
      "\n",
      "\n",
      "Caricamento del pacchetto richiesto: dplyr\n",
      "\n",
      "Warning message:\n",
      "\"il pacchetto 'dplyr' è stato creato con R versione 4.3.2\"\n",
      "\n",
      "Caricamento pacchetto: 'dplyr'\n",
      "\n",
      "\n",
      "I seguenti oggetti sono mascherati da 'package:stats':\n",
      "\n",
      "    filter, lag\n",
      "\n",
      "\n",
      "I seguenti oggetti sono mascherati da 'package:base':\n",
      "\n",
      "    intersect, setdiff, setequal, union\n",
      "\n",
      "\n",
      "\n",
      "Caricamento pacchetto: 'radiant.data'\n",
      "\n",
      "\n",
      "I seguenti oggetti sono mascherati da 'package:lubridate':\n",
      "\n",
      "    month, wday\n",
      "\n",
      "\n",
      "Il seguente oggetto è mascherato da 'package:ggplot2':\n",
      "\n",
      "    diamonds\n",
      "\n",
      "\n",
      "Il seguente oggetto è mascherato da 'package:magrittr':\n",
      "\n",
      "    set_attr\n",
      "\n",
      "\n",
      "Il seguente oggetto è mascherato da 'package:base':\n",
      "\n",
      "    date\n",
      "\n",
      "\n",
      "Caricamento del pacchetto richiesto: radiant.design\n",
      "\n",
      "Warning message:\n",
      "\"il pacchetto 'radiant.design' è stato creato con R versione 4.3.3\"\n",
      "Caricamento del pacchetto richiesto: radiant.basics\n",
      "\n",
      "Warning message:\n",
      "\"il pacchetto 'radiant.basics' è stato creato con R versione 4.3.3\"\n",
      "Caricamento del pacchetto richiesto: radiant.model\n",
      "\n",
      "Warning message:\n",
      "\"il pacchetto 'radiant.model' è stato creato con R versione 4.3.3\"\n",
      "Caricamento del pacchetto richiesto: radiant.multivariate\n",
      "\n",
      "Warning message:\n",
      "\"il pacchetto 'radiant.multivariate' è stato creato con R versione 4.3.3\"\n",
      "Warning message:\n",
      "\"il pacchetto 'tidyverse' è stato creato con R versione 4.3.3\"\n",
      "Warning message:\n",
      "\"il pacchetto 'tibble' è stato creato con R versione 4.3.2\"\n",
      "── \u001b[1mAttaching core tidyverse packages\u001b[22m ──────────────────────── tidyverse 2.0.0 ──\n",
      "\u001b[32m✔\u001b[39m \u001b[34mforcats\u001b[39m 1.0.0     \u001b[32m✔\u001b[39m \u001b[34mstringr\u001b[39m 1.5.0\n",
      "\u001b[32m✔\u001b[39m \u001b[34mpurrr  \u001b[39m 1.0.2     \u001b[32m✔\u001b[39m \u001b[34mtibble \u001b[39m 3.2.1\n",
      "\u001b[32m✔\u001b[39m \u001b[34mreadr  \u001b[39m 2.1.4     \n",
      "── \u001b[1mConflicts\u001b[22m ────────────────────────────────────────── tidyverse_conflicts() ──\n",
      "\u001b[31m✖\u001b[39m \u001b[34mforcats\u001b[39m::\u001b[32mas_factor()\u001b[39m     masks \u001b[34mradiant.data\u001b[39m::as_factor()\n",
      "\u001b[31m✖\u001b[39m \u001b[34mtidyr\u001b[39m::\u001b[32mextract()\u001b[39m         masks \u001b[34mmagrittr\u001b[39m::extract()\n",
      "\u001b[31m✖\u001b[39m \u001b[34mdplyr\u001b[39m::\u001b[32mfilter()\u001b[39m          masks \u001b[34mstats\u001b[39m::filter()\n",
      "\u001b[31m✖\u001b[39m \u001b[34mpurrr\u001b[39m::\u001b[32mis_double()\u001b[39m       masks \u001b[34mradiant.data\u001b[39m::is_double()\n",
      "\u001b[31m✖\u001b[39m \u001b[34mdplyr\u001b[39m::\u001b[32mlag()\u001b[39m             masks \u001b[34mstats\u001b[39m::lag()\n",
      "\u001b[31m✖\u001b[39m \u001b[34mradiant.data\u001b[39m::\u001b[32mmonth()\u001b[39m    masks \u001b[34mlubridate\u001b[39m::month()\n",
      "\u001b[31m✖\u001b[39m \u001b[34mradiant.data\u001b[39m::\u001b[32mset_attr()\u001b[39m masks \u001b[34mmagrittr\u001b[39m::set_attr()\n",
      "\u001b[31m✖\u001b[39m \u001b[34mpurrr\u001b[39m::\u001b[32mset_names()\u001b[39m       masks \u001b[34mmagrittr\u001b[39m::set_names()\n",
      "\u001b[31m✖\u001b[39m \u001b[34mradiant.data\u001b[39m::\u001b[32mwday()\u001b[39m     masks \u001b[34mlubridate\u001b[39m::wday()\n",
      "\u001b[36mℹ\u001b[39m Use the conflicted package (\u001b[3m\u001b[34m<http://conflicted.r-lib.org/>\u001b[39m\u001b[23m) to force all conflicts to become errors\n",
      "Warning message:\n",
      "\"il pacchetto 'reshape2' è stato creato con R versione 4.3.3\"\n",
      "\n",
      "Caricamento pacchetto: 'reshape2'\n",
      "\n",
      "\n",
      "Il seguente oggetto è mascherato da 'package:tidyr':\n",
      "\n",
      "    smiths\n",
      "\n",
      "\n"
     ]
    }
   ],
   "source": [
    "library(radiant)\n",
    "library(tidyverse)\n",
    "library(reshape2)\n",
    "library(readxl)"
   ]
  },
  {
   "cell_type": "code",
   "execution_count": null,
   "metadata": {
    "vscode": {
     "languageId": "r"
    }
   },
   "outputs": [
    {
     "data": {
      "text/html": [
       "<table class=\"dataframe\">\n",
       "<caption>A data.frame: 9 × 5</caption>\n",
       "<thead>\n",
       "\t<tr><th scope=col>trial</th><th scope=col>Digitalized_tools_to_monitor_consumption</th><th scope=col>Flexibility_of_the_tariff</th><th scope=col>Speed_of_contracts</th><th scope=col>Reliability_of_technical_assistance</th></tr>\n",
       "\t<tr><th scope=col>&lt;int&gt;</th><th scope=col>&lt;fct&gt;</th><th scope=col>&lt;fct&gt;</th><th scope=col>&lt;fct&gt;</th><th scope=col>&lt;fct&gt;</th></tr>\n",
       "</thead>\n",
       "<tbody>\n",
       "\t<tr><td> 8</td><td>only_on_the_bill                </td><td>fixed_rate       </td><td>activation_after_one_week    </td><td>standard_business_hours</td></tr>\n",
       "\t<tr><td>10</td><td>only_on_the_bill                </td><td>two-hourly_rate  </td><td>directly_on_the_website      </td><td>24h_available          </td></tr>\n",
       "\t<tr><td>24</td><td>only_on_the_bill                </td><td>multi-hourly_rate</td><td>setup_with_quick_verification</td><td>email_support          </td></tr>\n",
       "\t<tr><td>30</td><td>daily_summary_through_website   </td><td>fixed_rate       </td><td>directly_on_the_website      </td><td>email_support          </td></tr>\n",
       "\t<tr><td>41</td><td>daily_summary_through_website   </td><td>two-hourly_rate  </td><td>setup_with_quick_verification</td><td>standard_business_hours</td></tr>\n",
       "\t<tr><td>52</td><td>daily_summary_through_website   </td><td>multi-hourly_rate</td><td>activation_after_one_week    </td><td>24h_available          </td></tr>\n",
       "\t<tr><td>58</td><td>real-time_monitoring_through_app</td><td>fixed_rate       </td><td>setup_with_quick_verification</td><td>24h_available          </td></tr>\n",
       "\t<tr><td>72</td><td>real-time_monitoring_through_app</td><td>two-hourly_rate  </td><td>activation_after_one_week    </td><td>email_support          </td></tr>\n",
       "\t<tr><td>74</td><td>real-time_monitoring_through_app</td><td>multi-hourly_rate</td><td>directly_on_the_website      </td><td>standard_business_hours</td></tr>\n",
       "</tbody>\n",
       "</table>\n"
      ],
      "text/latex": [
       "A data.frame: 9 × 5\n",
       "\\begin{tabular}{lllll}\n",
       " trial & Digitalized\\_tools\\_to\\_monitor\\_consumption & Flexibility\\_of\\_the\\_tariff & Speed\\_of\\_contracts & Reliability\\_of\\_technical\\_assistance\\\\\n",
       " <int> & <fct> & <fct> & <fct> & <fct>\\\\\n",
       "\\hline\n",
       "\t  8 & only\\_on\\_the\\_bill                 & fixed\\_rate        & activation\\_after\\_one\\_week     & standard\\_business\\_hours\\\\\n",
       "\t 10 & only\\_on\\_the\\_bill                 & two-hourly\\_rate   & directly\\_on\\_the\\_website       & 24h\\_available          \\\\\n",
       "\t 24 & only\\_on\\_the\\_bill                 & multi-hourly\\_rate & setup\\_with\\_quick\\_verification & email\\_support          \\\\\n",
       "\t 30 & daily\\_summary\\_through\\_website    & fixed\\_rate        & directly\\_on\\_the\\_website       & email\\_support          \\\\\n",
       "\t 41 & daily\\_summary\\_through\\_website    & two-hourly\\_rate   & setup\\_with\\_quick\\_verification & standard\\_business\\_hours\\\\\n",
       "\t 52 & daily\\_summary\\_through\\_website    & multi-hourly\\_rate & activation\\_after\\_one\\_week     & 24h\\_available          \\\\\n",
       "\t 58 & real-time\\_monitoring\\_through\\_app & fixed\\_rate        & setup\\_with\\_quick\\_verification & 24h\\_available          \\\\\n",
       "\t 72 & real-time\\_monitoring\\_through\\_app & two-hourly\\_rate   & activation\\_after\\_one\\_week     & email\\_support          \\\\\n",
       "\t 74 & real-time\\_monitoring\\_through\\_app & multi-hourly\\_rate & directly\\_on\\_the\\_website       & standard\\_business\\_hours\\\\\n",
       "\\end{tabular}\n"
      ],
      "text/markdown": [
       "\n",
       "A data.frame: 9 × 5\n",
       "\n",
       "| trial &lt;int&gt; | Digitalized_tools_to_monitor_consumption &lt;fct&gt; | Flexibility_of_the_tariff &lt;fct&gt; | Speed_of_contracts &lt;fct&gt; | Reliability_of_technical_assistance &lt;fct&gt; |\n",
       "|---|---|---|---|---|\n",
       "|  8 | only_on_the_bill                 | fixed_rate        | activation_after_one_week     | standard_business_hours |\n",
       "| 10 | only_on_the_bill                 | two-hourly_rate   | directly_on_the_website       | 24h_available           |\n",
       "| 24 | only_on_the_bill                 | multi-hourly_rate | setup_with_quick_verification | email_support           |\n",
       "| 30 | daily_summary_through_website    | fixed_rate        | directly_on_the_website       | email_support           |\n",
       "| 41 | daily_summary_through_website    | two-hourly_rate   | setup_with_quick_verification | standard_business_hours |\n",
       "| 52 | daily_summary_through_website    | multi-hourly_rate | activation_after_one_week     | 24h_available           |\n",
       "| 58 | real-time_monitoring_through_app | fixed_rate        | setup_with_quick_verification | 24h_available           |\n",
       "| 72 | real-time_monitoring_through_app | two-hourly_rate   | activation_after_one_week     | email_support           |\n",
       "| 74 | real-time_monitoring_through_app | multi-hourly_rate | directly_on_the_website       | standard_business_hours |\n",
       "\n"
      ],
      "text/plain": [
       "  trial Digitalized_tools_to_monitor_consumption Flexibility_of_the_tariff\n",
       "1  8    only_on_the_bill                         fixed_rate               \n",
       "2 10    only_on_the_bill                         two-hourly_rate          \n",
       "3 24    only_on_the_bill                         multi-hourly_rate        \n",
       "4 30    daily_summary_through_website            fixed_rate               \n",
       "5 41    daily_summary_through_website            two-hourly_rate          \n",
       "6 52    daily_summary_through_website            multi-hourly_rate        \n",
       "7 58    real-time_monitoring_through_app         fixed_rate               \n",
       "8 72    real-time_monitoring_through_app         two-hourly_rate          \n",
       "9 74    real-time_monitoring_through_app         multi-hourly_rate        \n",
       "  Speed_of_contracts            Reliability_of_technical_assistance\n",
       "1 activation_after_one_week     standard_business_hours            \n",
       "2 directly_on_the_website       24h_available                      \n",
       "3 setup_with_quick_verification email_support                      \n",
       "4 directly_on_the_website       email_support                      \n",
       "5 setup_with_quick_verification standard_business_hours            \n",
       "6 activation_after_one_week     24h_available                      \n",
       "7 setup_with_quick_verification 24h_available                      \n",
       "8 activation_after_one_week     email_support                      \n",
       "9 directly_on_the_website       standard_business_hours            "
      ]
     },
     "metadata": {},
     "output_type": "display_data"
    }
   ],
   "source": [
    "#Creation of the bundles (before the distribution of the survey) \n",
    "\n",
    "attribute1 <- 'Digitalized tools to monitor consumption;only on the bill;daily summary through website; real-time monitoring through app'\n",
    "attribute2<- 'Flexibility of the tariff;fixed rate;two-hourly rate;multi-hourly rate'\n",
    "attribute3 <- 'Speed of contracts;directly on the website;setup with quick verification;activation after one week'\n",
    "attribute4 <- 'Reliability of technical assistance;24h available;standard business hours; email support'\n",
    "\n",
    "attributes <- c(attribute1, attribute2,attribute3, attribute4)\n",
    "bundles <- doe(attributes, seed = 42)\n",
    "bundles$part"
   ]
  },
  {
   "cell_type": "code",
   "execution_count": 3,
   "metadata": {
    "vscode": {
     "languageId": "r"
    }
   },
   "outputs": [
    {
     "data": {
      "text/html": [
       "<table class=\"dataframe\">\n",
       "<caption>A data.frame: 1 × 3</caption>\n",
       "<thead>\n",
       "\t<tr><th></th><th scope=col>Trials</th><th scope=col>D-efficiency</th><th scope=col>Balanced</th></tr>\n",
       "\t<tr><th></th><th scope=col>&lt;int&gt;</th><th scope=col>&lt;dbl&gt;</th><th scope=col>&lt;lgl&gt;</th></tr>\n",
       "</thead>\n",
       "<tbody>\n",
       "\t<tr><th scope=row>1</th><td>9</td><td>1</td><td>TRUE</td></tr>\n",
       "</tbody>\n",
       "</table>\n"
      ],
      "text/latex": [
       "A data.frame: 1 × 3\n",
       "\\begin{tabular}{r|lll}\n",
       "  & Trials & D-efficiency & Balanced\\\\\n",
       "  & <int> & <dbl> & <lgl>\\\\\n",
       "\\hline\n",
       "\t1 & 9 & 1 & TRUE\\\\\n",
       "\\end{tabular}\n"
      ],
      "text/markdown": [
       "\n",
       "A data.frame: 1 × 3\n",
       "\n",
       "| <!--/--> | Trials &lt;int&gt; | D-efficiency &lt;dbl&gt; | Balanced &lt;lgl&gt; |\n",
       "|---|---|---|---|\n",
       "| 1 | 9 | 1 | TRUE |\n",
       "\n"
      ],
      "text/plain": [
       "  Trials D-efficiency Balanced\n",
       "1 9      1            TRUE    "
      ]
     },
     "metadata": {},
     "output_type": "display_data"
    }
   ],
   "source": [
    "#D-efficiency \n",
    "bundles$eff"
   ]
  },
  {
   "cell_type": "markdown",
   "metadata": {},
   "source": [
    "# Step 2: Conjoint analysis"
   ]
  },
  {
   "cell_type": "code",
   "execution_count": 4,
   "metadata": {
    "vscode": {
     "languageId": "r"
    }
   },
   "outputs": [
    {
     "name": "stdout",
     "output_type": "stream",
     "text": [
      "\u001b[90m# A tibble: 810 × 7\u001b[39m\n",
      "      Id Respondent A1                               A2      A3    A4    Ratings\n",
      "   \u001b[3m\u001b[90m<dbl>\u001b[39m\u001b[23m      \u001b[3m\u001b[90m<dbl>\u001b[39m\u001b[23m \u001b[3m\u001b[90m<fct>\u001b[39m\u001b[23m                            \u001b[3m\u001b[90m<fct>\u001b[39m\u001b[23m   \u001b[3m\u001b[90m<fct>\u001b[39m\u001b[23m \u001b[3m\u001b[90m<fct>\u001b[39m\u001b[23m   \u001b[3m\u001b[90m<dbl>\u001b[39m\u001b[23m\n",
      "\u001b[90m 1\u001b[39m     6          1 daily summary through website    multi-… acti… 24h …       5\n",
      "\u001b[90m 2\u001b[39m     1          1 only on the bill                 fixed … acti… stan…       3\n",
      "\u001b[90m 3\u001b[39m     8          1 real-time monitoring through app two-ho… acti… emai…       4\n",
      "\u001b[90m 4\u001b[39m     4          1 daily summary through website    fixed … dire… emai…       3\n",
      "\u001b[90m 5\u001b[39m     2          1 only on the bill                 two-ho… dire… 24h …       4\n",
      "\u001b[90m 6\u001b[39m     9          1 real-time monitoring through app multi-… dire… stan…       5\n",
      "\u001b[90m 7\u001b[39m     5          1 daily summary through website    two-ho… setu… stan…       4\n",
      "\u001b[90m 8\u001b[39m     3          1 only on the bill                 multi-… setu… emai…       3\n",
      "\u001b[90m 9\u001b[39m     7          1 real-time monitoring through app fixed … setu… 24h …       4\n",
      "\u001b[90m10\u001b[39m    15          2 daily summary through website    multi-… acti… 24h …       1\n",
      "\u001b[90m# ℹ 800 more rows\u001b[39m\n"
     ]
    }
   ],
   "source": [
    "#After we got our responses through the survey, we load the data and transform the attributes into factors.\n",
    "\n",
    "\n",
    "url <- \"https://raw.githubusercontent.com/Valeria-Riccardo/market-analytics-datasets/main/Conjoint.xlsx\"\n",
    "destfile <- tempfile(fileext = \".xlsx\")\n",
    "download.file(url, destfile, mode = \"wb\")\n",
    "df <- read_excel(destfile)\n",
    "\n",
    "colnames(df) <- c('Id', 'Respondent', 'A1', 'A2', 'A3', 'A4', 'Ratings')\n",
    "df <- df %>%\n",
    "  mutate(across(A1:A4, as.factor))\n",
    "\n",
    "print(df)"
   ]
  },
  {
   "cell_type": "code",
   "execution_count": 5,
   "metadata": {
    "vscode": {
     "languageId": "r"
    }
   },
   "outputs": [
    {
     "data": {
      "text/html": [
       "<table class=\"dataframe\">\n",
       "<caption>A matrix: 3 × 4 of type chr</caption>\n",
       "<thead>\n",
       "\t<tr><th scope=col>A1</th><th scope=col>A2</th><th scope=col>A3</th><th scope=col>A4</th></tr>\n",
       "</thead>\n",
       "<tbody>\n",
       "\t<tr><td>daily summary through website   </td><td>fixed rate       </td><td>activation after one week    </td><td>24h available          </td></tr>\n",
       "\t<tr><td>only on the bill                </td><td>multi-hourly rate</td><td>directly on the website      </td><td>email support          </td></tr>\n",
       "\t<tr><td>real-time monitoring through app</td><td>two-hourly rate  </td><td>setup with quick verification</td><td>standard business hours</td></tr>\n",
       "</tbody>\n",
       "</table>\n"
      ],
      "text/latex": [
       "A matrix: 3 × 4 of type chr\n",
       "\\begin{tabular}{llll}\n",
       " A1 & A2 & A3 & A4\\\\\n",
       "\\hline\n",
       "\t daily summary through website    & fixed rate        & activation after one week     & 24h available          \\\\\n",
       "\t only on the bill                 & multi-hourly rate & directly on the website       & email support          \\\\\n",
       "\t real-time monitoring through app & two-hourly rate   & setup with quick verification & standard business hours\\\\\n",
       "\\end{tabular}\n"
      ],
      "text/markdown": [
       "\n",
       "A matrix: 3 × 4 of type chr\n",
       "\n",
       "| A1 | A2 | A3 | A4 |\n",
       "|---|---|---|---|\n",
       "| daily summary through website    | fixed rate        | activation after one week     | 24h available           |\n",
       "| only on the bill                 | multi-hourly rate | directly on the website       | email support           |\n",
       "| real-time monitoring through app | two-hourly rate   | setup with quick verification | standard business hours |\n",
       "\n"
      ],
      "text/plain": [
       "     A1                               A2               \n",
       "[1,] daily summary through website    fixed rate       \n",
       "[2,] only on the bill                 multi-hourly rate\n",
       "[3,] real-time monitoring through app two-hourly rate  \n",
       "     A3                            A4                     \n",
       "[1,] activation after one week     24h available          \n",
       "[2,] directly on the website       email support          \n",
       "[3,] setup with quick verification standard business hours"
      ]
     },
     "metadata": {},
     "output_type": "display_data"
    }
   ],
   "source": [
    "#levels\n",
    "sapply(df[,3:6], FUN = levels)\n",
    "\n",
    "#A1: digitalized tools to monitor consumption\n",
    "#A2: flexibility of the tariff\n",
    "#A3: speed of activation of the contract\n",
    "#A4: reliability of technical assistance"
   ]
  },
  {
   "cell_type": "code",
   "execution_count": null,
   "metadata": {
    "vscode": {
     "languageId": "r"
    }
   },
   "outputs": [
    {
     "name": "stdout",
     "output_type": "stream",
     "text": [
      "Conjoint analysis\n",
      "Data                 : df \n",
      "Response variable    : Ratings \n",
      "Explanatory variables: A1, A2, A3, A4 \n",
      "\n",
      "Conjoint part-worths:\n",
      "   Attributes                           Levels     PW\n",
      " A1           daily summary through website     0.000\n",
      " A1           only on the bill                 -0.196\n",
      " A1           real-time monitoring through app  0.193\n",
      " A2           fixed rate                        0.000\n",
      " A2           multi-hourly rate                 0.107\n",
      " A2           two-hourly rate                   0.189\n",
      " A3           activation after one week         0.000\n",
      " A3           directly on the website           0.126\n",
      " A3           setup with quick verification    -0.163\n",
      " A4           24h available                     0.000\n",
      " A4           email support                    -0.696\n",
      " A4           standard business hours          -0.563\n",
      " Base utility ~                                 3.293\n",
      "\n",
      "Conjoint importance weights:\n",
      " Attributes    IW\n",
      "         A1 0.249\n",
      "         A2 0.121\n",
      "         A3 0.185\n",
      "         A4 0.445\n",
      "\n",
      "Conjoint regression results:\n",
      "\n",
      "                                     coefficient\n",
      " (Intercept)                               3.293\n",
      " A1|only on the bill                      -0.196\n",
      " A1|real-time monitoring through app       0.193\n",
      " A2|multi-hourly rate                      0.107\n",
      " A2|two-hourly rate                        0.189\n",
      " A3|directly on the website                0.126\n",
      " A3|setup with quick verification         -0.163\n",
      " A4|email support                         -0.696\n",
      " A4|standard business hours               -0.563\n",
      "\n"
     ]
    }
   ],
   "source": [
    "#conjoint analysis\n",
    "data.conjoint <- conjoint(df, rvar = \"Ratings\", evar = c('A1', 'A2', 'A3', 'A4'))\n",
    "summary(data.conjoint)"
   ]
  },
  {
   "cell_type": "markdown",
   "metadata": {},
   "source": [
    "The baseline utility (average rating) is 3.293 when all attributes are at their reference levels. It is defined as the average perceived value of a product or service before adding any variations in attributes.\n",
    "\n",
    "Part-worth utility quantifies the contribution of each attribute level to the overall preference for a product. It helps in understanding how much a specific feature influences a consumer's decision relative to other features.\n",
    "The highest importance attribute is the Reliability of technical assistance (0.445). Email support and standard business hours assistance increasingly reduce the utility when the 24h available assistance option is the reference.\n",
    "In relation to the other attribitues, the two-hourly tariff is the most preferred one, as well as the immediate activation of the contract through website and possibility to have a real-time track of the energy consumption. \n",
    " \n"
   ]
  },
  {
   "cell_type": "code",
   "execution_count": 7,
   "metadata": {
    "vscode": {
     "languageId": "r"
    }
   },
   "outputs": [
    {
     "data": {
      "image/png": "[encoded data removed]",
      "text/plain": [
       "plot without title"
      ]
     },
     "metadata": {
      "image/png": {
       "height": 420,
       "width": 420
      }
     },
     "output_type": "display_data"
    }
   ],
   "source": [
    "plot(data.conjoint)"
   ]
  },
  {
   "cell_type": "code",
   "execution_count": null,
   "metadata": {
    "vscode": {
     "languageId": "r"
    }
   },
   "outputs": [
    {
     "name": "stdout",
     "output_type": "stream",
     "text": [
      "$full\n",
      "$full$model\n",
      "\n",
      "Call:\n",
      "lm(formula = formula, data = cdat)\n",
      "\n",
      "Coefficients:\n",
      "                       (Intercept)                  A1only on the bill  \n",
      "                            3.2926                             -0.1963  \n",
      "A1real-time monitoring through app                 A2multi-hourly rate  \n",
      "                            0.1926                              0.1074  \n",
      "                 A2two-hourly rate           A3directly on the website  \n",
      "                            0.1889                              0.1259  \n",
      "   A3setup with quick verification                     A4email support  \n",
      "                           -0.1630                             -0.6963  \n",
      "         A4standard business hours  \n",
      "                           -0.5630  \n",
      "\n",
      "\n",
      "$full$coeff\n",
      "                                label coefficient  std.error   t.value\n",
      "1                         (Intercept)   3.2925926 0.11767280 27.980914\n",
      "2                 A1|only on the bill  -0.1962963 0.09607944 -2.043062\n",
      "3 A1|real-time monitoring through app   0.1925926 0.09607944  2.004514\n",
      "4                A2|multi-hourly rate   0.1074074 0.09607944  1.117902\n",
      "5                  A2|two-hourly rate   0.1888889 0.09607944  1.965966\n",
      "6          A3|directly on the website   0.1259259 0.09607944  1.310644\n",
      "7    A3|setup with quick verification  -0.1629630 0.09607944 -1.696127\n",
      "8                    A4|email support  -0.6962963 0.09607944 -7.247089\n",
      "9          A4|standard business hours  -0.5629630 0.09607944 -5.859349\n",
      "        p.value sig_star\n",
      "1 1.029996e-120      ***\n",
      "2  4.137306e-02      *  \n",
      "3  4.535118e-02      *  \n",
      "4  2.639440e-01         \n",
      "5  4.964759e-02      *  \n",
      "6  1.903538e-01         \n",
      "7  9.025034e-02      .  \n",
      "8  1.002801e-12      ***\n",
      "9  6.784337e-09      ***\n",
      "\n",
      "$full$tab\n",
      "$full$tab$PW\n",
      "                                     Attributes\n",
      "A1daily summary through website              A1\n",
      "A1only on the bill                           A1\n",
      "A1real-time monitoring through app           A1\n",
      "A2fixed rate                                 A2\n",
      "A2multi-hourly rate                          A2\n",
      "A2two-hourly rate                            A2\n",
      "A3activation after one week                  A3\n",
      "A3directly on the website                    A3\n",
      "A3setup with quick verification              A3\n",
      "A424h available                              A4\n",
      "A4email support                              A4\n",
      "A4standard business hours                    A4\n",
      "13                                 Base utility\n",
      "                                                             Levels     PW\n",
      "A1daily summary through website       daily summary through website  0.000\n",
      "A1only on the bill                                 only on the bill -0.196\n",
      "A1real-time monitoring through app real-time monitoring through app  0.193\n",
      "A2fixed rate                                             fixed rate  0.000\n",
      "A2multi-hourly rate                               multi-hourly rate  0.107\n",
      "A2two-hourly rate                                   two-hourly rate  0.189\n",
      "A3activation after one week               activation after one week  0.000\n",
      "A3directly on the website                   directly on the website  0.126\n",
      "A3setup with quick verification       setup with quick verification -0.163\n",
      "A424h available                                       24h available  0.000\n",
      "A4email support                                       email support -0.696\n",
      "A4standard business hours                   standard business hours -0.563\n",
      "13                                                                ~  3.293\n",
      "\n",
      "$full$tab$IW\n",
      "  Attributes    IW\n",
      "1         A1 0.249\n",
      "2         A2 0.121\n",
      "3         A3 0.185\n",
      "4         A4 0.445\n",
      "\n",
      "$full$tab$plot_ylim\n",
      "          Min       Max\n",
      "A1 -0.5087407 0.1945185\n",
      "A2  0.0000000 0.7032593\n",
      "A3 -0.5760741 0.1271852\n",
      "A4 -0.7032593 0.0000000\n",
      "\n",
      "\n",
      "\n"
     ]
    }
   ],
   "source": [
    "#full model list for a better understanding of the model\n",
    "\n",
    "model_list <- data.conjoint$model_list\n",
    "print(model_list)"
   ]
  },
  {
   "cell_type": "code",
   "execution_count": null,
   "metadata": {
    "vscode": {
     "languageId": "r"
    }
   },
   "outputs": [
    {
     "data": {
      "image/png": "[encoded data removed]",
      "text/plain": [
       "plot without title"
      ]
     },
     "metadata": {
      "image/png": {
       "height": 420,
       "width": 420
      }
     },
     "output_type": "display_data"
    }
   ],
   "source": [
    "#Part-worth visualization (think about it, because the reference levels are not shown)\n",
    "\n",
    "coeffs <- data.conjoint$model_list$full$coeff\n",
    "coeffs <- data.frame(coeffs)\n",
    "coeffs <- coeffs[,1:2]\n",
    "\n",
    "ggplot(coeffs, aes(x = reorder(label, coefficient), y = coefficient, fill = label)) +\n",
    "  geom_bar(stat = \"identity\", show.legend = FALSE) +  # Bar chart\n",
    "  coord_flip() +  # Flip for readability\n",
    "  labs(title = \"Part-Worth Utilities Visualization\",\n",
    "       x = \"Attribute Levels\",\n",
    "       y = \"Part-Worth Utility\") +\n",
    "  theme_minimal() +\n",
    "scale_fill_manual(values = c(\"red\", \"blue\", \"green\", \"orange\", \"purple\", \"pink\", \"yellow\", \"cyan\", \"brown\", \"black\"))\n",
    "\n"
   ]
  },
  {
   "cell_type": "code",
   "execution_count": 10,
   "metadata": {
    "vscode": {
     "languageId": "r"
    }
   },
   "outputs": [
    {
     "data": {
      "text/html": [
       "<table class=\"dataframe\">\n",
       "<caption>A tibble: 9 × 5</caption>\n",
       "<thead>\n",
       "\t<tr><th scope=col>A1</th><th scope=col>A2</th><th scope=col>A3</th><th scope=col>A4</th><th scope=col>full_product_utility</th></tr>\n",
       "\t<tr><th scope=col>&lt;fct&gt;</th><th scope=col>&lt;fct&gt;</th><th scope=col>&lt;fct&gt;</th><th scope=col>&lt;fct&gt;</th><th scope=col>&lt;dbl&gt;</th></tr>\n",
       "</thead>\n",
       "<tbody>\n",
       "\t<tr><td>daily summary through website   </td><td>multi-hourly rate</td><td>activation after one week    </td><td>24h available          </td><td>-0.759</td></tr>\n",
       "\t<tr><td>only on the bill                </td><td>fixed rate       </td><td>activation after one week    </td><td>standard business hours</td><td> 0.119</td></tr>\n",
       "\t<tr><td>real-time monitoring through app</td><td>two-hourly rate  </td><td>activation after one week    </td><td>email support          </td><td>-0.948</td></tr>\n",
       "\t<tr><td>daily summary through website   </td><td>fixed rate       </td><td>directly on the website      </td><td>email support          </td><td>-1.133</td></tr>\n",
       "\t<tr><td>only on the bill                </td><td>two-hourly rate  </td><td>directly on the website      </td><td>24h available          </td><td>-0.537</td></tr>\n",
       "\t<tr><td>real-time monitoring through app</td><td>multi-hourly rate</td><td>directly on the website      </td><td>standard business hours</td><td> 0.107</td></tr>\n",
       "\t<tr><td>daily summary through website   </td><td>two-hourly rate  </td><td>setup with quick verification</td><td>standard business hours</td><td> 0.030</td></tr>\n",
       "\t<tr><td>only on the bill                </td><td>multi-hourly rate</td><td>setup with quick verification</td><td>email support          </td><td>-0.314</td></tr>\n",
       "\t<tr><td>real-time monitoring through app</td><td>fixed rate       </td><td>setup with quick verification</td><td>24h available          </td><td>-0.263</td></tr>\n",
       "</tbody>\n",
       "</table>\n"
      ],
      "text/latex": [
       "A tibble: 9 × 5\n",
       "\\begin{tabular}{lllll}\n",
       " A1 & A2 & A3 & A4 & full\\_product\\_utility\\\\\n",
       " <fct> & <fct> & <fct> & <fct> & <dbl>\\\\\n",
       "\\hline\n",
       "\t daily summary through website    & multi-hourly rate & activation after one week     & 24h available           & -0.759\\\\\n",
       "\t only on the bill                 & fixed rate        & activation after one week     & standard business hours &  0.119\\\\\n",
       "\t real-time monitoring through app & two-hourly rate   & activation after one week     & email support           & -0.948\\\\\n",
       "\t daily summary through website    & fixed rate        & directly on the website       & email support           & -1.133\\\\\n",
       "\t only on the bill                 & two-hourly rate   & directly on the website       & 24h available           & -0.537\\\\\n",
       "\t real-time monitoring through app & multi-hourly rate & directly on the website       & standard business hours &  0.107\\\\\n",
       "\t daily summary through website    & two-hourly rate   & setup with quick verification & standard business hours &  0.030\\\\\n",
       "\t only on the bill                 & multi-hourly rate & setup with quick verification & email support           & -0.314\\\\\n",
       "\t real-time monitoring through app & fixed rate        & setup with quick verification & 24h available           & -0.263\\\\\n",
       "\\end{tabular}\n"
      ],
      "text/markdown": [
       "\n",
       "A tibble: 9 × 5\n",
       "\n",
       "| A1 &lt;fct&gt; | A2 &lt;fct&gt; | A3 &lt;fct&gt; | A4 &lt;fct&gt; | full_product_utility &lt;dbl&gt; |\n",
       "|---|---|---|---|---|\n",
       "| daily summary through website    | multi-hourly rate | activation after one week     | 24h available           | -0.759 |\n",
       "| only on the bill                 | fixed rate        | activation after one week     | standard business hours |  0.119 |\n",
       "| real-time monitoring through app | two-hourly rate   | activation after one week     | email support           | -0.948 |\n",
       "| daily summary through website    | fixed rate        | directly on the website       | email support           | -1.133 |\n",
       "| only on the bill                 | two-hourly rate   | directly on the website       | 24h available           | -0.537 |\n",
       "| real-time monitoring through app | multi-hourly rate | directly on the website       | standard business hours |  0.107 |\n",
       "| daily summary through website    | two-hourly rate   | setup with quick verification | standard business hours |  0.030 |\n",
       "| only on the bill                 | multi-hourly rate | setup with quick verification | email support           | -0.314 |\n",
       "| real-time monitoring through app | fixed rate        | setup with quick verification | 24h available           | -0.263 |\n",
       "\n"
      ],
      "text/plain": [
       "  A1                               A2               \n",
       "1 daily summary through website    multi-hourly rate\n",
       "2 only on the bill                 fixed rate       \n",
       "3 real-time monitoring through app two-hourly rate  \n",
       "4 daily summary through website    fixed rate       \n",
       "5 only on the bill                 two-hourly rate  \n",
       "6 real-time monitoring through app multi-hourly rate\n",
       "7 daily summary through website    two-hourly rate  \n",
       "8 only on the bill                 multi-hourly rate\n",
       "9 real-time monitoring through app fixed rate       \n",
       "  A3                            A4                      full_product_utility\n",
       "1 activation after one week     24h available           -0.759              \n",
       "2 activation after one week     standard business hours  0.119              \n",
       "3 activation after one week     email support           -0.948              \n",
       "4 directly on the website       email support           -1.133              \n",
       "5 directly on the website       24h available           -0.537              \n",
       "6 directly on the website       standard business hours  0.107              \n",
       "7 setup with quick verification standard business hours  0.030              \n",
       "8 setup with quick verification email support           -0.314              \n",
       "9 setup with quick verification 24h available           -0.263              "
      ]
     },
     "metadata": {},
     "output_type": "display_data"
    }
   ],
   "source": [
    "#Full product choice\n",
    "\n",
    "full_prod_choice <- df[df$'Respondent' == 1, 3:6]\n",
    "prod1<- -0.196-0.563 #bundle 1\n",
    "prod2 <- -0.196 +0.189 + 0.126 #bundle 2\n",
    "prod3 <- -0.196 +0.107 -0.163-0.696 #bundle 3\n",
    "prod4 <- -0.563 +0.126-0.696#bundle 4\n",
    "prod5 <- 0.189-0.163-0.563 #bundle 5\n",
    "prod6 <-0.107 #bundle 6\n",
    "prod7 <- 0.193-0.163 #bundle 7\n",
    "prod8 <-0.193 + 0.189 -0.696 #bundle 8\n",
    "prod9 <-0.193 +0.107 - 0.563 #bundle 9\n",
    "\n",
    "full_prod_choice %>% mutate(full_product_utility=c(prod1, prod2, prod3, prod4, prod5, prod6, prod7, prod8, prod9))"
   ]
  },
  {
   "cell_type": "markdown",
   "metadata": {},
   "source": [
    "The highest full product utility belongs to the second bundle; that tariff will take the highest market share.\n"
   ]
  },
  {
   "cell_type": "markdown",
   "metadata": {},
   "source": [
    "# Step 4: Product configuration and market-share simulation\n",
    "\n",
    "Three tariffs have been created: a standard one, a premium one and a low cost one.\n",
    "\n",
    "**Standard configuration**\n",
    "A1: Daily summary through the website \n",
    "A2: Two-hourly rate \n",
    "A3: Setup with quick verification\n",
    "A4: Standard business hours \n",
    "\n",
    "**Premium**\n",
    "A1: Real-time monitoring through app \n",
    "A2: Fixed rate \n",
    "A3: Directly on the website\n",
    "A4: 24h available\n",
    "\n",
    "**Low-cost Option**\n",
    "A1: Only on the bill \n",
    "A2: Multi-hourly rate\n",
    "A3: Activation after one week\n",
    "A4: Email support\n",
    "\n",
    "\n",
    "\n"
   ]
  },
  {
   "cell_type": "code",
   "execution_count": null,
   "metadata": {
    "vscode": {
     "languageId": "r"
    }
   },
   "outputs": [
    {
     "name": "stdout",
     "output_type": "stream",
     "text": [
      "  standard_perc premium_perc low_perc\n",
      "1      31.05175     40.69282 28.25543\n"
     ]
    },
    {
     "data": {
      "image/png": "[encoded data removed]",
      "text/plain": [
       "plot without title"
      ]
     },
     "metadata": {
      "image/png": {
       "height": 420,
       "width": 420
      }
     },
     "output_type": "display_data"
    }
   ],
   "source": [
    "#configuration of the tariffs\n",
    "standard <- c('daily summary through website','two-hourly rate','setup with quick verification',\n",
    "              'standard business hours')\n",
    "premium <-c('real-time monitoring through app',\n",
    "            'fixed rate',\n",
    "            'directly on the website',\n",
    "            '24h available')\n",
    "low <- c('only on the bill',\n",
    "         'multi-hourly rate',\n",
    "         'activation after one week',\n",
    "         'email support')\n",
    "\n",
    "products <- data.frame(rbind(standard, premium, low))\n",
    "\n",
    "products <- data.frame(lapply(products, as.factor))\n",
    "colnames(products) <- c('A1', 'A2', 'A3', 'A4')\n",
    "\n",
    "prediction <- predict(data.conjoint, products)\n",
    "#market-share computation\n",
    "calculate_percentages <- function(prediction) {\n",
    "  prediction_values <- c(prediction$Prediction)  \n",
    "  percentages <- prediction_values / sum(prediction_values) * 100\n",
    "  return(data.frame(\n",
    "    standard_perc = percentages[1],\n",
    "    premium_perc = percentages[2],\n",
    "    low_perc = percentages[3]\n",
    "  ))\n",
    "}\n",
    "market.share <- data.frame(calculate_percentages(prediction))\n",
    "print(market.share)\n",
    "\n",
    "#Prepare data for ggplot\n",
    "market.share <- data.frame(Tariffs = c('Standard', 'Premium', 'Low Cost'), 'MarketShare' = c(market.share$standard_perc, market.share$premium_perc, market.share$low_perc))\n",
    "\n",
    "#visualization\n",
    "ggplot(market.share, aes(x = Tariffs, y = MarketShare, fill = Tariffs)) +\n",
    "  geom_bar(stat = \"identity\") +\n",
    "  labs(title = \"Market Share by Tariff Type\", x = \"Tariff Type\", y = \"Market Share (%)\") +\n",
    "  theme_minimal()\n",
    "\n",
    "\n"
   ]
  },
  {
   "cell_type": "markdown",
   "metadata": {},
   "source": [
    "**Introduction of a new product**\n",
    "\n",
    "We assume that a balanced option is introduced:\n",
    "\n",
    "**Balanced option**\n",
    "A1: Daily summary through website\n",
    "A2: Two-hourly rate\n",
    "A3: Setup with quick verification \n",
    "A4: 24h available"
   ]
  },
  {
   "cell_type": "code",
   "execution_count": null,
   "metadata": {
    "vscode": {
     "languageId": "r"
    }
   },
   "outputs": [
    {
     "name": "stdout",
     "output_type": "stream",
     "text": [
      "   Tariffs MarketShare\n",
      "1 Standard    22.60024\n",
      "2  Premium    29.61725\n",
      "3 Low Cost    20.56501\n",
      "4 Balanced    27.21750\n"
     ]
    },
    {
     "data": {
      "image/png": "[encoded data removed]",
      "text/plain": [
       "plot without title"
      ]
     },
     "metadata": {
      "image/png": {
       "height": 420,
       "width": 420
      }
     },
     "output_type": "display_data"
    }
   ],
   "source": [
    "#configuration of the tariff\n",
    "balanced <- c('daily summary through website', 'two-hourly rate', 'setup with quick verification', '24h available')\n",
    "products2 <- data.frame(rbind(standard, premium, low, balanced))\n",
    "\n",
    "products2 <- data.frame(lapply(products2, as.factor))\n",
    "colnames(products2) <- c('A1', 'A2', 'A3', 'A4')\n",
    "\n",
    "#market-share computation with the balanced option included\n",
    "calculate_percentages2 <- function(prediction) {\n",
    "  prediction_values <- c(prediction$Prediction)  \n",
    "  percentages <- prediction_values / sum(prediction_values) * 100\n",
    "  return(data.frame(\n",
    "    standard_perc = percentages[1],\n",
    "    premium_perc = percentages[2],\n",
    "    low_perc = percentages[3],\n",
    "    balanced_perc = percentages[4]\n",
    "  ))\n",
    "}\n",
    "prediction2 <- predict(data.conjoint, products2)\n",
    "market.share2 <- data.frame(calculate_percentages2(prediction2))\n",
    "\n",
    "\n",
    "#Prepare data for ggplot\n",
    "market.share2 <- data.frame(Tariffs = c('Standard', 'Premium', 'Low Cost', 'Balanced'), \n",
    "'MarketShare' = c(market.share2$standard_perc, market.share2$premium_perc, market.share2$low_perc, market.share2$balanced_perc))\n",
    "\n",
    "#visualization\n",
    "ggplot(market.share2, aes(x = Tariffs, y = MarketShare, fill = Tariffs)) +\n",
    "  geom_bar(stat = \"identity\") +\n",
    "  labs(title = \"Market Share by Tariff Type\", x = \"Tariff Type\", y = \"Market Share (%)\") +\n",
    "  theme_minimal()\n",
    "\n",
    "print(market.share2)\n",
    "\n"
   ]
  },
  {
   "cell_type": "markdown",
   "metadata": {},
   "source": [
    "The Premium Plan remains the most preferred option (29.61%) while experiencing a consistent drop, indicating that the two-hourly rate option remain an attractive element to consumers. The Standard Plan (22.60%) sees a drop from the previous simulation (31.00%) as some consumers shift towards the Balanced Plan, which contains an upgrade of the technical assistance factor. This suggests that many users still value the possibility of a quick solution for eventual overloads or shortages. The Low-Cost Plan (20.56%) remains the least popular, reinforcing the idea that limited customer support and lack of digital tools reduce attractiveness. However, this plan could still serve a niche of highly price-sensitive customers.\n"
   ]
  },
  {
   "cell_type": "markdown",
   "metadata": {},
   "source": [
    "# Step 5: K-means segment-based conjoint analysis and market-share simulation"
   ]
  },
  {
   "cell_type": "code",
   "execution_count": null,
   "metadata": {
    "vscode": {
     "languageId": "r"
    }
   },
   "outputs": [],
   "source": [
    "#Convertion of Python indeces to R indeces.\n",
    "#Rows assigned to Cluster 1:\n",
    "segment1 <- c(0, 1, 4, 5, 6, 8, 9, 10, 23, 30, 47, 56, 61, 70, 75, 76, 79, 80, 82, 86, 87) +1\n",
    "#Rows assigned to Cluster 2:\n",
    "segment2 <- c(3, 7, 11, 24, 26, 27, 34, 35, 36, 38, 42, 45, 52, 55, 66, 67, 69, 71, 72, 73, 77, 81, 88) +1\n",
    "#Rows assigned to Cluster 3:\n",
    "segment3 <- c(12, 14, 16, 17, 18, 20, 22, 28, 29, 31, 32, 37, 40, 44, 46, 48, 51, 57, 58, 59, 60, 62, 64, 65, 68, 74, 84, 85) +1\n",
    "#Rows assigned to Cluster 4:\n",
    "segment4 <- c(2, 13, 15, 19, 21, 25, 33, 39, 41, 43, 49, 50, 53, 54, 63, 78, 83, 89) + 1\n",
    "\n",
    "\n",
    "data.segment1 <- df[df$Respondent %in% segment1, ]\n",
    "data.segment2 <- df[df$Respondent %in% segment2, ]\n",
    "data.segment3 <- df[df$Respondent %in% segment3, ]\n",
    "data.segment4 <- df[df$Respondent %in% segment4, ]\n"
   ]
  },
  {
   "cell_type": "markdown",
   "metadata": {},
   "source": [
    "*A more detailed description of the segments is provided in the segmentation code*\n",
    "### K-Means Segments Description:\n",
    "\n",
    "**Segment1**: Older, large-house consumers. <br>\n",
    "**Segment2**: High-income, large-house, seasonal user. <br>\n",
    "**Segment3**: Low-income, moderate energy consumers. <br>\n",
    "**Segment4**: Small, loyal, consistent users. "
   ]
  },
  {
   "cell_type": "code",
   "execution_count": 14,
   "metadata": {
    "vscode": {
     "languageId": "r"
    }
   },
   "outputs": [
    {
     "name": "stdout",
     "output_type": "stream",
     "text": [
      "Conjoint analysis\n",
      "Data                 : data.segment1 \n",
      "Response variable    : Ratings \n",
      "Explanatory variables: A1, A2, A3, A4 \n",
      "\n",
      "Conjoint part-worths:\n",
      "   Attributes                           Levels     PW\n",
      " A1           daily summary through website     0.000\n",
      " A1           only on the bill                  0.016\n",
      " A1           real-time monitoring through app  0.079\n",
      " A2           fixed rate                        0.000\n",
      " A2           multi-hourly rate                 0.429\n",
      " A2           two-hourly rate                   0.524\n",
      " A3           activation after one week         0.000\n",
      " A3           directly on the website          -0.063\n",
      " A3           setup with quick verification    -0.222\n",
      " A4           24h available                     0.000\n",
      " A4           email support                    -0.651\n",
      " A4           standard business hours          -0.492\n",
      " Base utility ~                                 2.714\n",
      "\n",
      "Conjoint importance weights:\n",
      " Attributes    IW\n",
      "         A1 0.054\n",
      "         A2 0.355\n",
      "         A3 0.151\n",
      "         A4 0.441\n",
      "\n",
      "Conjoint regression results:\n",
      "\n",
      "                                     coefficient\n",
      " (Intercept)                               2.714\n",
      " A1|only on the bill                       0.016\n",
      " A1|real-time monitoring through app       0.079\n",
      " A2|multi-hourly rate                      0.429\n",
      " A2|two-hourly rate                        0.524\n",
      " A3|directly on the website               -0.063\n",
      " A3|setup with quick verification         -0.222\n",
      " A4|email support                         -0.651\n",
      " A4|standard business hours               -0.492\n",
      "\n"
     ]
    }
   ],
   "source": [
    "#conjoint analysis for the segments\n",
    "\n",
    "conjoint.segment1 <-conjoint(data.segment1, rvar = 'Ratings', evar=c('A1', 'A2', 'A3', 'A4'))\n",
    "\n",
    "summary(conjoint.segment1)"
   ]
  },
  {
   "cell_type": "code",
   "execution_count": 15,
   "metadata": {
    "vscode": {
     "languageId": "r"
    }
   },
   "outputs": [
    {
     "name": "stdout",
     "output_type": "stream",
     "text": [
      "Conjoint analysis\n",
      "Data                 : data.segment2 \n",
      "Response variable    : Ratings \n",
      "Explanatory variables: A1, A2, A3, A4 \n",
      "\n",
      "Conjoint part-worths:\n",
      "   Attributes                           Levels     PW\n",
      " A1           daily summary through website     0.000\n",
      " A1           only on the bill                 -0.145\n",
      " A1           real-time monitoring through app  0.377\n",
      " A2           fixed rate                        0.000\n",
      " A2           multi-hourly rate                -0.014\n",
      " A2           two-hourly rate                   0.072\n",
      " A3           activation after one week         0.000\n",
      " A3           directly on the website           0.188\n",
      " A3           setup with quick verification    -0.261\n",
      " A4           24h available                     0.000\n",
      " A4           email support                    -0.812\n",
      " A4           standard business hours          -0.696\n",
      " Base utility ~                                 3.536\n",
      "\n",
      "Conjoint importance weights:\n",
      " Attributes    IW\n",
      "         A1 0.279\n",
      "         A2 0.047\n",
      "         A3 0.240\n",
      "         A4 0.434\n",
      "\n",
      "Conjoint regression results:\n",
      "\n",
      "                                     coefficient\n",
      " (Intercept)                               3.536\n",
      " A1|only on the bill                      -0.145\n",
      " A1|real-time monitoring through app       0.377\n",
      " A2|multi-hourly rate                     -0.014\n",
      " A2|two-hourly rate                        0.072\n",
      " A3|directly on the website                0.188\n",
      " A3|setup with quick verification         -0.261\n",
      " A4|email support                         -0.812\n",
      " A4|standard business hours               -0.696\n",
      "\n"
     ]
    }
   ],
   "source": [
    "conjoint.segment2 <- conjoint(data.segment2, rvar = 'Ratings', evar=c('A1', 'A2', 'A3', 'A4'))\n",
    "summary(conjoint.segment2)\n"
   ]
  },
  {
   "cell_type": "code",
   "execution_count": 16,
   "metadata": {
    "vscode": {
     "languageId": "r"
    }
   },
   "outputs": [
    {
     "name": "stdout",
     "output_type": "stream",
     "text": [
      "Conjoint analysis\n",
      "Data                 : data.segment3 \n",
      "Response variable    : Ratings \n",
      "Explanatory variables: A1, A2, A3, A4 \n",
      "\n",
      "Conjoint part-worths:\n",
      "   Attributes                           Levels     PW\n",
      " A1           daily summary through website     0.000\n",
      " A1           only on the bill                 -0.274\n",
      " A1           real-time monitoring through app  0.190\n",
      " A2           fixed rate                        0.000\n",
      " A2           multi-hourly rate                 0.024\n",
      " A2           two-hourly rate                   0.143\n",
      " A3           activation after one week         0.000\n",
      " A3           directly on the website           0.155\n",
      " A3           setup with quick verification    -0.131\n",
      " A4           24h available                     0.000\n",
      " A4           email support                    -0.810\n",
      " A4           standard business hours          -0.631\n",
      " Base utility ~                                 3.440\n",
      "\n",
      "Conjoint importance weights:\n",
      " Attributes    IW\n",
      "         A1 0.273\n",
      "         A2 0.084\n",
      "         A3 0.168\n",
      "         A4 0.476\n",
      "\n",
      "Conjoint regression results:\n",
      "\n",
      "                                     coefficient\n",
      " (Intercept)                               3.440\n",
      " A1|only on the bill                      -0.274\n",
      " A1|real-time monitoring through app       0.190\n",
      " A2|multi-hourly rate                      0.024\n",
      " A2|two-hourly rate                        0.143\n",
      " A3|directly on the website                0.155\n",
      " A3|setup with quick verification         -0.131\n",
      " A4|email support                         -0.810\n",
      " A4|standard business hours               -0.631\n",
      "\n"
     ]
    }
   ],
   "source": [
    "conjoint.segment3 <- conjoint(data.segment3, rvar = 'Ratings', evar=c('A1', 'A2', 'A3', 'A4'))\n",
    "summary(conjoint.segment3)\n"
   ]
  },
  {
   "cell_type": "code",
   "execution_count": 17,
   "metadata": {
    "vscode": {
     "languageId": "r"
    }
   },
   "outputs": [
    {
     "name": "stdout",
     "output_type": "stream",
     "text": [
      "Conjoint analysis\n",
      "Data                 : data.segment4 \n",
      "Response variable    : Ratings \n",
      "Explanatory variables: A1, A2, A3, A4 \n",
      "\n",
      "Conjoint part-worths:\n",
      "   Attributes                           Levels     PW\n",
      " A1           daily summary through website     0.000\n",
      " A1           only on the bill                 -0.389\n",
      " A1           real-time monitoring through app  0.093\n",
      " A2           fixed rate                        0.000\n",
      " A2           multi-hourly rate                 0.019\n",
      " A2           two-hourly rate                   0.019\n",
      " A3           activation after one week         0.000\n",
      " A3           directly on the website           0.222\n",
      " A3           setup with quick verification    -0.019\n",
      " A4           24h available                     0.000\n",
      " A4           email support                    -0.426\n",
      " A4           standard business hours          -0.370\n",
      " Base utility ~                                 3.426\n",
      "\n",
      "Conjoint importance weights:\n",
      " Attributes    IW\n",
      "         A1 0.413\n",
      "         A2 0.016\n",
      "         A3 0.206\n",
      "         A4 0.365\n",
      "\n",
      "Conjoint regression results:\n",
      "\n",
      "                                     coefficient\n",
      " (Intercept)                               3.426\n",
      " A1|only on the bill                      -0.389\n",
      " A1|real-time monitoring through app       0.093\n",
      " A2|multi-hourly rate                      0.019\n",
      " A2|two-hourly rate                        0.019\n",
      " A3|directly on the website                0.222\n",
      " A3|setup with quick verification         -0.019\n",
      " A4|email support                         -0.426\n",
      " A4|standard business hours               -0.370\n",
      "\n"
     ]
    }
   ],
   "source": [
    "conjoint.segment4 <- conjoint(data.segment4, rvar = 'Ratings', evar=c('A1', 'A2', 'A3', 'A4'))\n",
    "summary(conjoint.segment4)\n"
   ]
  },
  {
   "cell_type": "code",
   "execution_count": 18,
   "metadata": {
    "vscode": {
     "languageId": "r"
    }
   },
   "outputs": [],
   "source": [
    "#adding the reference levels (0) to the coefficients taken from the conjoint function\n",
    "\n",
    "pwutilities.segment1 <- as.vector(conjoint.segment1$model_list$full$coeff$coefficient)\n",
    "add_values_at_positions <- function(vector, value, positions) {\n",
    "  for (p in rev(positions))\n",
    "    vector <- append(vector, value, after = p - 1)\n",
    "  return(vector)\n",
    "}\n",
    "\n",
    "positions <- c(2, 4, 6, 8)\n",
    "pwutilities.segment1 <- add_values_at_positions(pwutilities.segment1, 0, positions)\n",
    "\n",
    "pwutilities.segment2 <- as.vector(conjoint.segment2$model_list$full$coeff$coefficient)\n",
    "pwutilities.segment2 <- add_values_at_positions(pwutilities.segment2, 0, positions)\n",
    "\n",
    "\n",
    "pwutilities.segment3 <- as.vector(conjoint.segment3$model_list$full$coeff$coefficient)\n",
    "pwutilities.segment3 <- add_values_at_positions(pwutilities.segment3, 0, positions)\n",
    "\n",
    "pwutilities.segment4 <- as.vector(conjoint.segment4$model_list$full$coeff$coefficient)\n",
    "pwutilities.segment4 <- add_values_at_positions(pwutilities.segment4, 0, positions)\n",
    "\n",
    "\n"
   ]
  },
  {
   "cell_type": "markdown",
   "metadata": {},
   "source": [
    "**Comparison of the part-worth utilities per attribute:**"
   ]
  },
  {
   "cell_type": "code",
   "execution_count": 19,
   "metadata": {
    "vscode": {
     "languageId": "r"
    }
   },
   "outputs": [
    {
     "name": "stderr",
     "output_type": "stream",
     "text": [
      "Warning message:\n",
      "\"\u001b[1m\u001b[22mUsing `size` aesthetic for lines was deprecated in ggplot2 3.4.0.\n",
      "\u001b[36mℹ\u001b[39m Please use `linewidth` instead.\"\n"
     ]
    },
    {
     "data": {
      "image/png": "[encoded data removed]",
      "text/plain": [
       "plot without title"
      ]
     },
     "metadata": {
      "image/png": {
       "height": 420,
       "width": 420
      }
     },
     "output_type": "display_data"
    }
   ],
   "source": [
    "segments <- cbind(pwutilities.segment1[2:4], pwutilities.segment2[2:4], \n",
    "                  pwutilities.segment3[2:4], pwutilities.segment4[2:4])\n",
    "\n",
    "# Create a data frame and reshape it\n",
    "segments_df <- data.frame(\n",
    "  x = rep(2:4, times = 4),\n",
    "  y = as.vector(segments),\n",
    "  segment = factor(rep(1:4, each = 3))\n",
    ")\n",
    "\n",
    "# Define colors for each segment\n",
    "colors <- c(\"blue\", \"red\", \"green\", \"orange\")\n",
    "\n",
    "# Create the plot  \n",
    "ggplot(segments_df, aes(x = factor(x), y = y, color = segment, group = segment)) +\n",
    "  geom_line(size = 1.5) + \n",
    "  geom_point(size = 4) +\n",
    "  scale_color_manual(values = colors) +\n",
    "  labs(x = \"X-axis\", y = \"Y-axis\", \n",
    "       title = \"#A1: Digitalized tools to monitor consumption Segments comparison\") +\n",
    "  scale_x_discrete(labels = c(\"Daily summary\", \"Only on the bill\", \"Real-time monitoring\")) +\n",
    "  theme_gray() +\n",
    "  theme(legend.title = element_blank(), \n",
    "        legend.position = \"top\",      \n",
    "        legend.key.size = unit(1, \"lines\"),  \n",
    "        legend.text = element_text(size = 10),  \n",
    "        legend.spacing.x = unit(0.5, 'cm')) +  \n",
    "  guides(color = guide_legend(override.aes = list(size = 4)))"
   ]
  },
  {
   "cell_type": "markdown",
   "metadata": {},
   "source": [
    "The trend of utility regarding consumption monitoring is quite homogeneous between segments, with **Segment4** obtaining the highest utility. <br>\n",
    "**Segment1**, on the other hand, represents a voice out of the chorus, showing itself to be quite indifferent (**importance weight 0.054**) at almost all levels of the attribute. This segment is mostly composed by older users with a higher than average consumption. Even though the moderate usage of energy may suggest the need of monitoring it, the age could represent a barrier to the acceptance of digital services. "
   ]
  },
  {
   "cell_type": "code",
   "execution_count": 20,
   "metadata": {
    "vscode": {
     "languageId": "r"
    }
   },
   "outputs": [
    {
     "data": {
      "image/png": "[encoded data removed]",
      "text/plain": [
       "plot without title"
      ]
     },
     "metadata": {
      "image/png": {
       "height": 420,
       "width": 420
      }
     },
     "output_type": "display_data"
    }
   ],
   "source": [
    "segments <- cbind(pwutilities.segment1[5:7], pwutilities.segment2[5:7], \n",
    "                  pwutilities.segment3[5:7], pwutilities.segment4[5:7])\n",
    "\n",
    "# Create a data frame and reshape it\n",
    "segments_df <- data.frame(\n",
    "  x = rep(2:4, times = 4),\n",
    "  y = as.vector(segments),\n",
    "  segment = factor(rep(1:4, each = 3))\n",
    ")\n",
    "\n",
    "\n",
    "ggplot(segments_df, aes(x = factor(x), y = y, color = segment, group = segment)) +\n",
    "  geom_line(size = 1.5) + \n",
    "  geom_point(size = 4) +\n",
    "  scale_color_manual(values = colors) +\n",
    "  labs(x = \"X-axis\", y = \"Y-axis\", \n",
    "       title = \"#A2: Flexibility of the tariff Segments comparison\") +\n",
    "  scale_x_discrete(labels = c(\"Fixed rate\", \"Two-hourly rate\", \"Multi-hourly rate\")) +\n",
    "  theme_gray() +\n",
    "  theme(legend.title = element_blank(), \n",
    "        legend.position = \"top\",      \n",
    "        legend.key.size = unit(1, \"lines\"),  \n",
    "        legend.text = element_text(size = 10), \n",
    "        legend.spacing.x = unit(0.5, 'cm')) + \n",
    "  guides(color = guide_legend(override.aes = list(size = 4)))"
   ]
  },
  {
   "cell_type": "markdown",
   "metadata": {},
   "source": [
    "Consistent with what we saw before, **Segment1** is the one that benefits the most from the creation of price ranges, due to the higher than average consumption habits. <br>\n",
    "**Segment2** and **Segment3** are respectively the highest and the lowest income users. Despite their completely opposite features, they still share a very similar pattern, probably due to different reasons (with a slight higher utility for **Segment3**). A high-consumption and low-income cluster surely benefits from the existence of different bands of price. On the other side, **Segment2** has a strong seasonal component (consumption accumulates in certain seasons), making a flexible tariff a good option for this specific need. <br>\n",
    "**Segment4** is composed by small households living in small houses. Having a stable consumption flow, sensitivity to flexibility is low.\n"
   ]
  },
  {
   "cell_type": "code",
   "execution_count": 21,
   "metadata": {
    "vscode": {
     "languageId": "r"
    }
   },
   "outputs": [
    {
     "data": {
      "image/png": "[encoded data removed]",
      "text/plain": [
       "plot without title"
      ]
     },
     "metadata": {
      "image/png": {
       "height": 420,
       "width": 420
      }
     },
     "output_type": "display_data"
    }
   ],
   "source": [
    "segments <- cbind(pwutilities.segment1[8:10], pwutilities.segment2[8:10], \n",
    "                  pwutilities.segment3[8:10], pwutilities.segment4[8:10])\n",
    "\n",
    "# Create a data frame and reshape it\n",
    "segments_df <- data.frame(\n",
    "  x = rep(2:4, times = 4),\n",
    "  y = as.vector(segments),\n",
    "  segment = factor(rep(1:4, each = 3))\n",
    ")\n",
    "\n",
    "\n",
    "ggplot(segments_df, aes(x = factor(x), y = y, color = segment, group = segment)) +\n",
    "  geom_line(size = 1.5) + \n",
    "  geom_point(size = 4) +\n",
    "  scale_color_manual(values = colors) +\n",
    "  labs(x = \"X-axis\", y = \"Y-axis\", \n",
    "       title = \"#A3: Speed of contracts Segments comparison\") +\n",
    "  scale_x_discrete(labels = c(\"Activation after one week\", \"Directly on website\", \"Setup with quick verification\")) +\n",
    "  theme_gray() +\n",
    "  theme(legend.title = element_blank(), \n",
    "        legend.position = \"top\",      \n",
    "        legend.key.size = unit(1, \"lines\"),  \n",
    "        legend.text = element_text(size = 10),  \n",
    "        legend.spacing.x = unit(0.5, 'cm')) +  \n",
    "  guides(color = guide_legend(override.aes = list(size = 4)))"
   ]
  },
  {
   "cell_type": "markdown",
   "metadata": {},
   "source": [
    "All the segments agree that the closing of a contract should be quick and painless, even though **Segment1** is the cluster yielding the lowest utility from a quick contract. This behaviour is consistent with the previous result and with the disinterest that this segments manifests towards digital services."
   ]
  },
  {
   "cell_type": "code",
   "execution_count": 22,
   "metadata": {
    "vscode": {
     "languageId": "r"
    }
   },
   "outputs": [
    {
     "data": {
      "image/png": "[encoded data removed]",
      "text/plain": [
       "plot without title"
      ]
     },
     "metadata": {
      "image/png": {
       "height": 420,
       "width": 420
      }
     },
     "output_type": "display_data"
    }
   ],
   "source": [
    "#Prepare the data for ggplot\n",
    "segments <- cbind(pwutilities.segment1[11:13], pwutilities.segment2[11:13], \n",
    "                  pwutilities.segment3[11:13], pwutilities.segment4[11:13])\n",
    "\n",
    "# Create a data frame and reshape it\n",
    "segments_df <- data.frame(\n",
    "  x = rep(2:4, times = 4),\n",
    "  y = as.vector(segments),\n",
    "  segment = factor(rep(1:4, each = 3))\n",
    ")\n",
    "\n",
    "\n",
    "ggplot(segments_df, aes(x = factor(x), y = y, color = segment, group = segment)) +\n",
    "  geom_line(size = 1.5) + \n",
    "  geom_point(size = 4) +\n",
    "  scale_color_manual(values = colors) +\n",
    "  labs(x = \"X-axis\", y = \"Y-axis\", \n",
    "       title = \"#A4: Reliability of technical assistance Segments comparison\") +\n",
    "  scale_x_discrete(labels = c(\"24h available\", \"Email support\", \"Standard business hours\")) +\n",
    "  theme_gray() +\n",
    "  theme(legend.title = element_blank(), \n",
    "        legend.position = \"top\",      \n",
    "        legend.key.size = unit(1, \"lines\"), \n",
    "        legend.text = element_text(size = 10),  \n",
    "        legend.spacing.x = unit(0.5, 'cm')) +  \n",
    "  guides(color = guide_legend(override.aes = list(size = 4)))"
   ]
  },
  {
   "cell_type": "markdown",
   "metadata": {},
   "source": [
    "**Segment4** is the only one which do not give this attribute the highest weight (on the contrary, all the other segments show an important sensitiveness to technical assistance), manifesting higher enthusiasm for digital applications. The house size may also play a part in this result, making it ideal candidates for low-consumption and low probability of energy overloads or shortages. The prevalence of an apartement-type of house, in addition, suggests a technical assistance managed and organized by the building administration, which does not make this factor a priority for this cluster."
   ]
  },
  {
   "cell_type": "code",
   "execution_count": 23,
   "metadata": {
    "vscode": {
     "languageId": "r"
    }
   },
   "outputs": [],
   "source": [
    "# Predictions for the new product configurations\n",
    "prediction.segment1 <- predict(conjoint.segment1, products)\n",
    "prediction.segment2 <- predict(conjoint.segment2, products)\n",
    "prediction.segment3 <- predict(conjoint.segment3, products)\n",
    "prediction.segment4 <- predict(conjoint.segment4, products)\n",
    "\n",
    "#market share computation with the \"calculate percentages\" function\n",
    "\n",
    "ms.segment1 <- data.frame(calculate_percentages(prediction.segment1))\n",
    "ms.segment2 <- data.frame(calculate_percentages(prediction.segment2))\n",
    "ms.segment3 <- data.frame(calculate_percentages(prediction.segment3))\n",
    "ms.segment4 <- data.frame(calculate_percentages(prediction.segment4))\n"
   ]
  },
  {
   "cell_type": "code",
   "execution_count": 24,
   "metadata": {
    "vscode": {
     "languageId": "r"
    }
   },
   "outputs": [
    {
     "name": "stdout",
     "output_type": "stream",
     "text": [
      "   Segment Standard  Premium Low_Cost\n",
      "1 Segment1 32.51534 35.17382 32.31084\n",
      "2 Segment2 28.46034 44.01244 27.52722\n",
      "3 Segment3 31.39073 42.11921 26.49007\n",
      "4 Segment4 32.41650 39.68566 27.89784\n"
     ]
    },
    {
     "data": {
      "image/png": "[encoded data removed]",
      "text/plain": [
       "plot without title"
      ]
     },
     "metadata": {
      "image/png": {
       "height": 420,
       "width": 420
      }
     },
     "output_type": "display_data"
    }
   ],
   "source": [
    "#Prepare data for ggplot\n",
    "segment.conjoint <- data.frame(\n",
    "  Segment = c(\"Segment1\", \"Segment2\", \"Segment3\", \"Segment4\"),\n",
    "  Standard = c(ms.segment1$standard_perc, ms.segment2$standard_perc, \n",
    "               ms.segment3$standard_perc, ms.segment4$standard_perc),\n",
    "  Premium = c(ms.segment1$premium_perc, ms.segment2$premium_perc, \n",
    "              ms.segment3$premium_perc, ms.segment4$premium_perc),\n",
    "  Low_Cost = c(ms.segment1$low_perc, ms.segment2$low_perc, \n",
    "               ms.segment3$low_perc, ms.segment4$low_perc)\n",
    ")\n",
    "\n",
    "# Reshape data into long format\n",
    "segment_long <- melt(segment.conjoint, id.vars = \"Segment\", variable.name = \"Type\", value.name = \"MarketShare\")\n",
    "\n",
    "#visualization\n",
    "ggplot(segment_long, aes(x = Segment, y = MarketShare, fill = Type)) +\n",
    "  geom_bar(stat = \"identity\", position = \"dodge\") +\n",
    "  labs(title = \"Market Share by Segment\",\n",
    "       x = \"Segment\",\n",
    "       y = \"Market Share (%)\",\n",
    "       fill = \"Type\") +\n",
    "  theme_grey()\n",
    "print(segment.conjoint)\n"
   ]
  },
  {
   "cell_type": "markdown",
   "metadata": {},
   "source": [
    "\n",
    "**Segment1** derives a more or less homogeneous utility from all tariffs, with a slightly higher percentage for the Premium one (thanks to the strong technical assistance). This result suggests that the price still plays an important role for this cluster, and that the additional services are easily replaceable. <br>\n",
    "Being the segment with the highest income, **Segment2** shows low sensitivity to basic options with no services, even though the possibility of flexibility bands may help this cluster in optimizing its costs. This last exigence, however, does not seem to a priority. <br>\n",
    "**Segment3** has a very similar pattern, with a slight higher market-share earned by the standard and the low-cost configurations. This results is quite interesting to highlight: considering their features, **Segment3** and **Segment2** are very different, but they show the same behaviour towards tariffs. Both the clusters are composed by a lower than average age households, which may lead to a shared enthusiasm towards digital tools. On the other side, the need for an efficient technical assistance may result from different necessities: from the lowest-income cluster, a new device would not be affordable, from the highest-income cluster, a large house needs more care and attention. <br>\n",
    "**Segment4** is the most interested in the standard configuration tariff, whith the Premium offer still attracting an important slice of consumers (because of the interest towards digital tools). \n",
    "\n",
    "\n"
   ]
  },
  {
   "cell_type": "markdown",
   "metadata": {},
   "source": [
    "**Introduction of the new balanced option**"
   ]
  },
  {
   "cell_type": "code",
   "execution_count": 25,
   "metadata": {
    "vscode": {
     "languageId": "r"
    }
   },
   "outputs": [],
   "source": [
    "\n",
    "# Predictions for the new product configurations\n",
    "prediction.segment1 <- predict(conjoint.segment1, products2)\n",
    "prediction.segment2 <- predict(conjoint.segment2, products2)\n",
    "prediction.segment3 <- predict(conjoint.segment3, products2)\n",
    "prediction.segment4 <- predict(conjoint.segment4, products2)\n",
    "\n",
    "#market share computation with the \"calculate percentage2\" function (that contains the balanced option)\n",
    "\n",
    "ms.segment1 <- calculate_percentages2(prediction.segment1)\n",
    "ms.segment2 <- calculate_percentages2(prediction.segment2)\n",
    "ms.segment3 <- calculate_percentages2(prediction.segment3)\n",
    "ms.segment4 <- calculate_percentages2(prediction.segment4)\n"
   ]
  },
  {
   "cell_type": "code",
   "execution_count": 26,
   "metadata": {
    "vscode": {
     "languageId": "r"
    }
   },
   "outputs": [
    {
     "name": "stdout",
     "output_type": "stream",
     "text": [
      "   Segment Standard  Premium Low_Cost Balanced\n",
      "1 Segment1 23.41679 25.33137 23.26951 27.98233\n",
      "2 Segment2 20.93822 32.37986 20.25172 26.43021\n",
      "3 Segment3 22.67943 30.43062 19.13876 27.75120\n",
      "4 Segment4 23.77522 29.10663 20.46110 26.65706\n"
     ]
    },
    {
     "data": {
      "image/png": "[encoded data removed]",
      "text/plain": [
       "plot without title"
      ]
     },
     "metadata": {
      "image/png": {
       "height": 420,
       "width": 420
      }
     },
     "output_type": "display_data"
    }
   ],
   "source": [
    "#Prepare data for ggplot\n",
    "segment.conjoint <- data.frame(\n",
    "  Segment = c(\"Segment1\", \"Segment2\", \"Segment3\", \"Segment4\"),\n",
    "  Standard = c(ms.segment1$standard_perc, ms.segment2$standard_perc, \n",
    "               ms.segment3$standard_perc, ms.segment4$standard_perc),\n",
    "  Premium = c(ms.segment1$premium_perc, ms.segment2$premium_perc, \n",
    "              ms.segment3$premium_perc, ms.segment4$premium_perc),\n",
    "  Low_Cost = c(ms.segment1$low_perc, ms.segment2$low_perc, \n",
    "               ms.segment3$low_perc, ms.segment4$low_perc),\n",
    "  Balanced = c(ms.segment1$balanced_perc, ms.segment2$balanced_perc, \n",
    "               ms.segment3$balanced_perc, ms.segment4$balanced_perc))\n",
    "\n",
    "# Reshape data into long format\n",
    "segment_long <- melt(segment.conjoint, id.vars = \"Segment\", variable.name = \"Type\", value.name = \"MarketShare\")\n",
    "\n",
    "#visualization\n",
    "ggplot(segment_long, aes(x = Segment, y = MarketShare, fill = Type)) +\n",
    "  geom_bar(stat = \"identity\", position = \"dodge\") +\n",
    "  labs(title = \"Market Share by Segment\",\n",
    "       x = \"Segment\",\n",
    "       y = \"Market Share (%)\",\n",
    "       fill = \"Type\") +\n",
    "  theme_grey()\n",
    "print(segment.conjoint)"
   ]
  },
  {
   "cell_type": "markdown",
   "metadata": {},
   "source": [
    "With the introduction of a new balanced option, all the fares share a more or less homogeneous market-share, with a large part of the market absorbed by the standard and the premium configurations. \n",
    "**segment1** shows an incredible sensitiveness to this tariff, which, for the same rate of the standard configuration, provides an upgrade of the technical assistance (from the standard business hours to a 24h available support) while meeting the financial needs with a two-hourly rate.  \n",
    "**Segment2** still prioritizes the premium offer as **Segment3**; the two clusters experience approximately the same market-share drops of the other tariffs.\n",
    "The same reasonment is applicable to **Segment4**, which still keep the highest market-share for the standard configuration. "
   ]
  },
  {
   "cell_type": "markdown",
   "metadata": {},
   "source": [
    "# Conclusions <br>\n",
    "**“The boomers”**, Segment 1: this group showed a reduced utility and disinterest towards digital tools. Better to target it with a balanced offer: providing a low digital services in exchange of a saving-wise tariff and a good technical assistance represents the option that better meets this cluster's needs. <br>\n",
    "<br>\n",
    "**\"The opposite poles\"**, Segment 2 and 3: these two clusters share the most diverse features, and yet, the patterns turn out to be very similar. This teaches an important lesson: \n",
    "1) income may not be the most relevant demographical variable, while age may play a more important role;\n",
    "2) different needs might have the same solution, but need to be advertised differently. The Premium offer looks the best deal for both. <br>\n",
    "<br>\n",
    "\n",
    "**“The lazy”**, Segment 4: the loyal component of this cluster suggests a choice mostly determined by the popularity of the company. This segments showed a little reaction to dynamic pricing - due to the low consumption of a small household - and to an efficient technical assistance - due to the apartment-based component of the segment. \n",
    "This enforces the idea that a Premium tariff may not be the right one to advertise in the long-term, on the contrary, a good investment in the balanced option may lead many of this segment consumers more satisfied for the consumption savings.\n"
   ]
  }
 ],
 "metadata": {
  "kernelspec": {
   "display_name": "R",
   "language": "R",
   "name": "ir"
  },
  "language_info": {
   "codemirror_mode": "r",
   "file_extension": ".r",
   "mimetype": "text/x-r-source",
   "name": "R",
   "pygments_lexer": "r",
   "version": "4.3.1"
  }
 },
 "nbformat": 4,
 "nbformat_minor": 2
}
